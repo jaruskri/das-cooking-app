{
 "cells": [
  {
   "cell_type": "markdown",
   "metadata": {},
   "source": [
    "# Flask\n",
    "Jeden z mnoha tutorialů: https://blog.miguelgrinberg.com/post/the-flask-mega-tutorial-part-i-hello-world"
   ]
  },
  {
   "cell_type": "markdown",
   "metadata": {},
   "source": [
    "## Hello word\n",
    "Kód nespouštět, v jupyteru flask nejde"
   ]
  },
  {
   "cell_type": "code",
   "execution_count": null,
   "metadata": {},
   "outputs": [],
   "source": [
    "# app/__init__.py\n",
    "from flask import Flask\n",
    "app = Flask(__name__)\n",
    "from app import routes\n",
    "\n",
    "# app/routes.py\n",
    "from app import app\n",
    "@app.route('/')\n",
    "def index():\n",
    "    return \"Hello, World!\"\n",
    "\n",
    "# spuštění\n",
    "from app import app\n",
    "app.run(host='0.0.0.0', port=80, debug=True)"
   ]
  },
  {
   "cell_type": "markdown",
   "metadata": {},
   "source": [
    "## Výchozí stránka s požadavkem hesla\n",
    "- formuláře jde vytvářet ručně (html i flask část) nebo přes *wtforms*:\n",
    "     - formulář třída s definovánmi poli, lze lze automaticky kontrolovat vstupy\n",
    "     - v html se pak objeví jako {{ form.password(size=32) }}{{ form.submit() }}\n",
    "     - při pracování i renderování vytvořit instanci řídy:\n",
    "         - při zpracování se validuje\n",
    "         - při renderování se předává šabloně\n",
    "- funkce flash slouží k zobrazení zprávy uživateli - místo v html šabloně\n",
    "- session obsahuje proměnné daného uživatele\n",
    "    - ukládám sem údaj o úspěšném přihlášení\n",
    "- return\n",
    "    - lze vrátit text, renderovanou šablonu, přesměrování\n",
    "    - šablony jinja2 - lze jim předat proměnné (zde form), které jsou dosazeny do šablony"
   ]
  },
  {
   "cell_type": "code",
   "execution_count": null,
   "metadata": {},
   "outputs": [],
   "source": [
    "from flask_wtf import FlaskForm\n",
    "from wtforms import StringField, PasswordField, BooleanField, SubmitField\n",
    "from wtforms.validators import DataRequired\n",
    "\n",
    "class LoginForm(FlaskForm):\n",
    "    password = PasswordField('Password', validators=[DataRequired()])\n",
    "    submit = SubmitField('Sign In')\n",
    "    \n",
    "@app.route('/', methods=['GET', 'POST'])\n",
    "def index():\n",
    "    form = LoginForm()\n",
    "    if form.validate_on_submit():\n",
    "        if request.form.get('password') == app.config['PASSWORD']:\n",
    "            session['logged'] = True\n",
    "            flash(\"User logged in.\")\n",
    "        else:\n",
    "            flash(\"Wrong password.\")\n",
    "    if session.get('logged'):\n",
    "        return render_template('upload.html')\n",
    "    return render_template('login.html', form=form)"
   ]
  },
  {
   "cell_type": "markdown",
   "metadata": {},
   "source": [
    "Šablona login.html rozšiřuje base.html (obsahuje hlavičku, patičku), do které se vkládá do vybraného místa.\n",
    "- renderuji login.html, která se doplní do base.html v pozici {% block content %}{% endblock %}\n",
    "- šabloně je předána proměnná form, která obsahuje prvky formuláře, zobrazí se přes {{ form.password(size=32) }} apod.\n",
    "- statické soubory (styly, skripty...) jsou ve složce static, vkládají se cesty pomocí {{ url_for('static', filename='w3.css') }}"
   ]
  },
  {
   "cell_type": "code",
   "execution_count": null,
   "metadata": {},
   "outputs": [],
   "source": [
    "# login.html\n",
    "{% extends \"base.html\" %}\n",
    "\n",
    "{% block content %}\n",
    "<center><h1>Welcome to Cooking App!</h1></center>\n",
    "<form method=\"post\" novalidate>{{ form.hidden_tag() }}\n",
    "    <center>\n",
    "    {{ form.password.label }}\n",
    "    {{ form.password(size=32) }}\n",
    "    {{ form.submit() }}\n",
    "    </center>\n",
    "</form>\n",
    "{% endblock %}\n",
    "\n",
    "\n",
    "\n",
    "# base.html\n",
    "<!DOCTYPE HTML>\n",
    "<html>\n",
    "    <head>\n",
    "        <link rel=\"stylesheet\" href=\"{{ url_for('static', filename='w3.css') }}\">\n",
    "        ...\n",
    "        <script src=\"{{ url_for('static', filename='script.js') }}\"></script>\n",
    "        <title>CookingApp</title>\n",
    "    </head>\n",
    "    <body>\n",
    "\n",
    "<div class=\"w3-main w3-content w3-padding\" style=\"max-width:1200px;margin-top:100px\">\n",
    "(zobrazení zpráv s funkce flash)\n",
    "{% with messages = get_flashed_messages() %}\n",
    "    {% if messages %}\n",
    "        <ul class=flashes>\n",
    "        {% for message in messages %}\n",
    "            <li>{{ message }}</li>\n",
    "        {% endfor %}\n",
    "        </ul>\n",
    "    {% endif %}\n",
    "{% endwith %}\n",
    "\n",
    "{% block content %}(sem se vloží obsah z dalšího souboru){% endblock %}\n",
    "</div>\n",
    "\n",
    "    </body>\n",
    "</html>"
   ]
  },
  {
   "cell_type": "markdown",
   "metadata": {},
   "source": [
    "## Pokud vám tohle nestačí, projďete si kódy v app pro další příklady"
   ]
  },
  {
   "cell_type": "code",
   "execution_count": null,
   "metadata": {},
   "outputs": [],
   "source": []
  }
 ],
 "metadata": {
  "kernelspec": {
   "display_name": "Python 3",
   "language": "python",
   "name": "python3"
  },
  "language_info": {
   "codemirror_mode": {
    "name": "ipython",
    "version": 3
   },
   "file_extension": ".py",
   "mimetype": "text/x-python",
   "name": "python",
   "nbconvert_exporter": "python",
   "pygments_lexer": "ipython3",
   "version": "3.7.4"
  }
 },
 "nbformat": 4,
 "nbformat_minor": 2
}
