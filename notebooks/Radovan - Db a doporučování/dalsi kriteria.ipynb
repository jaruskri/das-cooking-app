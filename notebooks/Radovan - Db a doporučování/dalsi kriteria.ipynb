{
 "cells": [
  {
   "cell_type": "code",
   "execution_count": 30,
   "metadata": {},
   "outputs": [
    {
     "name": "stdout",
     "output_type": "stream",
     "text": [
      "{'user': 'cook', 'dbname': 'cookingapp', 'host': '127.0.0.1', 'port': '5432', 'tty': '', 'options': '', 'sslmode': 'prefer', 'sslcompression': '0', 'krbsrvname': 'postgres', 'target_session_attrs': 'any'} \n",
      "\n",
      "You are connected to -  ('PostgreSQL 12.0, compiled by Visual C++ build 1914, 64-bit',) \n",
      "\n"
     ]
    }
   ],
   "source": [
    "import login\n",
    "import psycopg2\n",
    "try:\n",
    "    conn = psycopg2.connect(user = login.user,\n",
    "                                  password = login.password,\n",
    "                                  host = \"127.0.0.1\",\n",
    "                                  port = \"5432\",\n",
    "                                  database = \"cookingapp\")\n",
    "\n",
    "    cur = conn.cursor()\n",
    "    print ( conn.get_dsn_parameters(),\"\\n\")\n",
    "    cur.execute(\"SELECT version();\")\n",
    "    record = cur.fetchone()\n",
    "    print(\"You are connected to - \", record,\"\\n\")\n",
    "except (Exception, psycopg2.Error) as error :\n",
    "    print (\"Error while connecting to PostgreSQL\", error)"
   ]
  },
  {
   "cell_type": "code",
   "execution_count": 4,
   "metadata": {},
   "outputs": [],
   "source": [
    "import pandas as pd"
   ]
  },
  {
   "cell_type": "code",
   "execution_count": 31,
   "metadata": {},
   "outputs": [],
   "source": [
    "df = pd.read_sql(\"select title, rating, sodium, fat, protein, calories from recept\", conn)"
   ]
  },
  {
   "cell_type": "code",
   "execution_count": 32,
   "metadata": {},
   "outputs": [],
   "source": [
    "cur.close()\n",
    "conn.close()"
   ]
  },
  {
   "cell_type": "code",
   "execution_count": 33,
   "metadata": {},
   "outputs": [
    {
     "data": {
      "text/html": [
       "<div>\n",
       "<style scoped>\n",
       "    .dataframe tbody tr th:only-of-type {\n",
       "        vertical-align: middle;\n",
       "    }\n",
       "\n",
       "    .dataframe tbody tr th {\n",
       "        vertical-align: top;\n",
       "    }\n",
       "\n",
       "    .dataframe thead th {\n",
       "        text-align: right;\n",
       "    }\n",
       "</style>\n",
       "<table border=\"1\" class=\"dataframe\">\n",
       "  <thead>\n",
       "    <tr style=\"text-align: right;\">\n",
       "      <th></th>\n",
       "      <th>rating</th>\n",
       "      <th>sodium</th>\n",
       "      <th>fat</th>\n",
       "      <th>protein</th>\n",
       "      <th>calories</th>\n",
       "    </tr>\n",
       "  </thead>\n",
       "  <tbody>\n",
       "    <tr>\n",
       "      <td>count</td>\n",
       "      <td>20100.000000</td>\n",
       "      <td>1.597400e+04</td>\n",
       "      <td>1.590800e+04</td>\n",
       "      <td>15929.000000</td>\n",
       "      <td>1.597600e+04</td>\n",
       "    </tr>\n",
       "    <tr>\n",
       "      <td>mean</td>\n",
       "      <td>3.713060</td>\n",
       "      <td>6.211474e+03</td>\n",
       "      <td>3.460975e+02</td>\n",
       "      <td>99.946199</td>\n",
       "      <td>6.307857e+03</td>\n",
       "    </tr>\n",
       "    <tr>\n",
       "      <td>std</td>\n",
       "      <td>1.343144</td>\n",
       "      <td>3.328903e+05</td>\n",
       "      <td>2.043102e+04</td>\n",
       "      <td>3835.616663</td>\n",
       "      <td>3.585851e+05</td>\n",
       "    </tr>\n",
       "    <tr>\n",
       "      <td>min</td>\n",
       "      <td>0.000000</td>\n",
       "      <td>0.000000e+00</td>\n",
       "      <td>0.000000e+00</td>\n",
       "      <td>0.000000</td>\n",
       "      <td>0.000000e+00</td>\n",
       "    </tr>\n",
       "    <tr>\n",
       "      <td>25%</td>\n",
       "      <td>3.750000</td>\n",
       "      <td>8.000000e+01</td>\n",
       "      <td>7.000000e+00</td>\n",
       "      <td>3.000000</td>\n",
       "      <td>1.980000e+02</td>\n",
       "    </tr>\n",
       "    <tr>\n",
       "      <td>50%</td>\n",
       "      <td>4.375000</td>\n",
       "      <td>2.940000e+02</td>\n",
       "      <td>1.700000e+01</td>\n",
       "      <td>8.000000</td>\n",
       "      <td>3.310000e+02</td>\n",
       "    </tr>\n",
       "    <tr>\n",
       "      <td>75%</td>\n",
       "      <td>4.375000</td>\n",
       "      <td>7.110000e+02</td>\n",
       "      <td>3.300000e+01</td>\n",
       "      <td>27.000000</td>\n",
       "      <td>5.860000e+02</td>\n",
       "    </tr>\n",
       "    <tr>\n",
       "      <td>max</td>\n",
       "      <td>5.000000</td>\n",
       "      <td>2.767511e+07</td>\n",
       "      <td>1.722763e+06</td>\n",
       "      <td>236489.000000</td>\n",
       "      <td>3.011122e+07</td>\n",
       "    </tr>\n",
       "  </tbody>\n",
       "</table>\n",
       "</div>"
      ],
      "text/plain": [
       "             rating        sodium           fat        protein      calories\n",
       "count  20100.000000  1.597400e+04  1.590800e+04   15929.000000  1.597600e+04\n",
       "mean       3.713060  6.211474e+03  3.460975e+02      99.946199  6.307857e+03\n",
       "std        1.343144  3.328903e+05  2.043102e+04    3835.616663  3.585851e+05\n",
       "min        0.000000  0.000000e+00  0.000000e+00       0.000000  0.000000e+00\n",
       "25%        3.750000  8.000000e+01  7.000000e+00       3.000000  1.980000e+02\n",
       "50%        4.375000  2.940000e+02  1.700000e+01       8.000000  3.310000e+02\n",
       "75%        4.375000  7.110000e+02  3.300000e+01      27.000000  5.860000e+02\n",
       "max        5.000000  2.767511e+07  1.722763e+06  236489.000000  3.011122e+07"
      ]
     },
     "execution_count": 33,
     "metadata": {},
     "output_type": "execute_result"
    }
   ],
   "source": [
    "df.describe()"
   ]
  },
  {
   "cell_type": "markdown",
   "metadata": {},
   "source": [
    "Nesmyslné hodnoty?!"
   ]
  },
  {
   "cell_type": "code",
   "execution_count": 13,
   "metadata": {},
   "outputs": [
    {
     "data": {
      "text/plain": [
       "<matplotlib.axes._subplots.AxesSubplot at 0x1738a59be08>"
      ]
     },
     "execution_count": 13,
     "metadata": {},
     "output_type": "execute_result"
    },
    {
     "data": {
      "image/png": "[encoded data removed]",
      "text/plain": [
       "<Figure size 432x288 with 1 Axes>"
      ]
     },
     "metadata": {
      "needs_background": "light"
     },
     "output_type": "display_data"
    }
   ],
   "source": [
    "df.rating.plot.kde()"
   ]
  },
  {
   "cell_type": "code",
   "execution_count": 14,
   "metadata": {},
   "outputs": [
    {
     "data": {
      "text/plain": [
       "<matplotlib.axes._subplots.AxesSubplot at 0x17387a6a408>"
      ]
     },
     "execution_count": 14,
     "metadata": {},
     "output_type": "execute_result"
    },
    {
     "data": {
      "image/png": "[encoded data removed]",
      "text/plain": [
       "<Figure size 432x288 with 1 Axes>"
      ]
     },
     "metadata": {
      "needs_background": "light"
     },
     "output_type": "display_data"
    }
   ],
   "source": [
    "df.sodium.plot.kde()"
   ]
  },
  {
   "cell_type": "code",
   "execution_count": 15,
   "metadata": {},
   "outputs": [
    {
     "data": {
      "text/plain": [
       "<matplotlib.axes._subplots.AxesSubplot at 0x1738a693288>"
      ]
     },
     "execution_count": 15,
     "metadata": {},
     "output_type": "execute_result"
    },
    {
     "data": {
      "image/png": "[encoded data removed]",
      "text/plain": [
       "<Figure size 432x288 with 1 Axes>"
      ]
     },
     "metadata": {
      "needs_background": "light"
     },
     "output_type": "display_data"
    }
   ],
   "source": [
    "df.fat.plot.kde()"
   ]
  },
  {
   "cell_type": "code",
   "execution_count": 16,
   "metadata": {},
   "outputs": [
    {
     "data": {
      "text/plain": [
       "<matplotlib.axes._subplots.AxesSubplot at 0x1738a7070c8>"
      ]
     },
     "execution_count": 16,
     "metadata": {},
     "output_type": "execute_result"
    },
    {
     "data": {
      "image/png": "[encoded data removed]",
      "text/plain": [
       "<Figure size 432x288 with 1 Axes>"
      ]
     },
     "metadata": {
      "needs_background": "light"
     },
     "output_type": "display_data"
    }
   ],
   "source": [
    "df.calories.plot.kde()"
   ]
  },
  {
   "cell_type": "code",
   "execution_count": 17,
   "metadata": {},
   "outputs": [
    {
     "data": {
      "text/plain": [
       "<matplotlib.axes._subplots.AxesSubplot at 0x1738a75d708>"
      ]
     },
     "execution_count": 17,
     "metadata": {},
     "output_type": "execute_result"
    },
    {
     "data": {
      "image/png": "[encoded data removed]",
      "text/plain": [
       "<Figure size 432x288 with 1 Axes>"
      ]
     },
     "metadata": {
      "needs_background": "light"
     },
     "output_type": "display_data"
    }
   ],
   "source": [
    "df.protein.plot.kde()"
   ]
  },
  {
   "cell_type": "code",
   "execution_count": 34,
   "metadata": {},
   "outputs": [
    {
     "data": {
      "text/html": [
       "<div>\n",
       "<style scoped>\n",
       "    .dataframe tbody tr th:only-of-type {\n",
       "        vertical-align: middle;\n",
       "    }\n",
       "\n",
       "    .dataframe tbody tr th {\n",
       "        vertical-align: top;\n",
       "    }\n",
       "\n",
       "    .dataframe thead th {\n",
       "        text-align: right;\n",
       "    }\n",
       "</style>\n",
       "<table border=\"1\" class=\"dataframe\">\n",
       "  <thead>\n",
       "    <tr style=\"text-align: right;\">\n",
       "      <th></th>\n",
       "      <th>title</th>\n",
       "      <th>rating</th>\n",
       "      <th>sodium</th>\n",
       "      <th>fat</th>\n",
       "      <th>protein</th>\n",
       "      <th>calories</th>\n",
       "    </tr>\n",
       "  </thead>\n",
       "  <tbody>\n",
       "    <tr>\n",
       "      <td>1039</td>\n",
       "      <td>Rice Pilaf with Lamb, Carrots, and Raisins</td>\n",
       "      <td>5.000</td>\n",
       "      <td>3134853.0</td>\n",
       "      <td>221495.0</td>\n",
       "      <td>236489.0</td>\n",
       "      <td>4157357.0</td>\n",
       "    </tr>\n",
       "    <tr>\n",
       "      <td>2369</td>\n",
       "      <td>Lamb Köfte with Tarator Sauce</td>\n",
       "      <td>5.000</td>\n",
       "      <td>7540990.0</td>\n",
       "      <td>44198.0</td>\n",
       "      <td>166471.0</td>\n",
       "      <td>4518216.0</td>\n",
       "    </tr>\n",
       "    <tr>\n",
       "      <td>4120</td>\n",
       "      <td>Caramelized Apple and Pear Pie</td>\n",
       "      <td>3.125</td>\n",
       "      <td>3449373.0</td>\n",
       "      <td>186642.0</td>\n",
       "      <td>58324.0</td>\n",
       "      <td>3358029.0</td>\n",
       "    </tr>\n",
       "    <tr>\n",
       "      <td>5090</td>\n",
       "      <td>Deep-Dish Wild Blueberry Pie</td>\n",
       "      <td>4.375</td>\n",
       "      <td>27570999.0</td>\n",
       "      <td>1716279.0</td>\n",
       "      <td>200210.0</td>\n",
       "      <td>29997918.0</td>\n",
       "    </tr>\n",
       "    <tr>\n",
       "      <td>5522</td>\n",
       "      <td>Chocolate-Almond Pie</td>\n",
       "      <td>3.125</td>\n",
       "      <td>3449512.0</td>\n",
       "      <td>186660.0</td>\n",
       "      <td>58334.0</td>\n",
       "      <td>3358273.0</td>\n",
       "    </tr>\n",
       "    <tr>\n",
       "      <td>7753</td>\n",
       "      <td>Rice Pilaf with Lamb, Carrots, and Raisins</td>\n",
       "      <td>5.000</td>\n",
       "      <td>3134853.0</td>\n",
       "      <td>221495.0</td>\n",
       "      <td>236489.0</td>\n",
       "      <td>4157357.0</td>\n",
       "    </tr>\n",
       "    <tr>\n",
       "      <td>9082</td>\n",
       "      <td>Pear-Cranberry Mincemeat Lattice Pie</td>\n",
       "      <td>4.375</td>\n",
       "      <td>27675110.0</td>\n",
       "      <td>1722763.0</td>\n",
       "      <td>200968.0</td>\n",
       "      <td>30111218.0</td>\n",
       "    </tr>\n",
       "    <tr>\n",
       "      <td>15627</td>\n",
       "      <td>Apricot, Cranberry and Walnut Pie</td>\n",
       "      <td>4.375</td>\n",
       "      <td>12005810.0</td>\n",
       "      <td>747374.0</td>\n",
       "      <td>87188.0</td>\n",
       "      <td>13062948.0</td>\n",
       "    </tr>\n",
       "  </tbody>\n",
       "</table>\n",
       "</div>"
      ],
      "text/plain": [
       "                                             title  rating      sodium  \\\n",
       "1039   Rice Pilaf with Lamb, Carrots, and Raisins    5.000   3134853.0   \n",
       "2369                Lamb Köfte with Tarator Sauce    5.000   7540990.0   \n",
       "4120               Caramelized Apple and Pear Pie    3.125   3449373.0   \n",
       "5090                 Deep-Dish Wild Blueberry Pie    4.375  27570999.0   \n",
       "5522                         Chocolate-Almond Pie    3.125   3449512.0   \n",
       "7753   Rice Pilaf with Lamb, Carrots, and Raisins    5.000   3134853.0   \n",
       "9082         Pear-Cranberry Mincemeat Lattice Pie    4.375  27675110.0   \n",
       "15627           Apricot, Cranberry and Walnut Pie    4.375  12005810.0   \n",
       "\n",
       "             fat   protein    calories  \n",
       "1039    221495.0  236489.0   4157357.0  \n",
       "2369     44198.0  166471.0   4518216.0  \n",
       "4120    186642.0   58324.0   3358029.0  \n",
       "5090   1716279.0  200210.0  29997918.0  \n",
       "5522    186660.0   58334.0   3358273.0  \n",
       "7753    221495.0  236489.0   4157357.0  \n",
       "9082   1722763.0  200968.0  30111218.0  \n",
       "15627   747374.0   87188.0  13062948.0  "
      ]
     },
     "execution_count": 34,
     "metadata": {},
     "output_type": "execute_result"
    }
   ],
   "source": [
    "df.loc[df.fat > 1e4]"
   ]
  },
  {
   "cell_type": "code",
   "execution_count": 36,
   "metadata": {},
   "outputs": [
    {
     "data": {
      "text/html": [
       "<div>\n",
       "<style scoped>\n",
       "    .dataframe tbody tr th:only-of-type {\n",
       "        vertical-align: middle;\n",
       "    }\n",
       "\n",
       "    .dataframe tbody tr th {\n",
       "        vertical-align: top;\n",
       "    }\n",
       "\n",
       "    .dataframe thead th {\n",
       "        text-align: right;\n",
       "    }\n",
       "</style>\n",
       "<table border=\"1\" class=\"dataframe\">\n",
       "  <thead>\n",
       "    <tr style=\"text-align: right;\">\n",
       "      <th></th>\n",
       "      <th>title</th>\n",
       "      <th>rating</th>\n",
       "      <th>sodium</th>\n",
       "      <th>fat</th>\n",
       "      <th>protein</th>\n",
       "      <th>calories</th>\n",
       "    </tr>\n",
       "  </thead>\n",
       "  <tbody>\n",
       "    <tr>\n",
       "      <td>1039</td>\n",
       "      <td>Rice Pilaf with Lamb, Carrots, and Raisins</td>\n",
       "      <td>5.000</td>\n",
       "      <td>3134853.0</td>\n",
       "      <td>221495.0</td>\n",
       "      <td>236489.0</td>\n",
       "      <td>4157357.0</td>\n",
       "    </tr>\n",
       "    <tr>\n",
       "      <td>2369</td>\n",
       "      <td>Lamb Köfte with Tarator Sauce</td>\n",
       "      <td>5.000</td>\n",
       "      <td>7540990.0</td>\n",
       "      <td>44198.0</td>\n",
       "      <td>166471.0</td>\n",
       "      <td>4518216.0</td>\n",
       "    </tr>\n",
       "    <tr>\n",
       "      <td>2609</td>\n",
       "      <td>Whole Branzino Roasted in Salt</td>\n",
       "      <td>5.000</td>\n",
       "      <td>132220.0</td>\n",
       "      <td>20.0</td>\n",
       "      <td>53.0</td>\n",
       "      <td>417.0</td>\n",
       "    </tr>\n",
       "    <tr>\n",
       "      <td>4120</td>\n",
       "      <td>Caramelized Apple and Pear Pie</td>\n",
       "      <td>3.125</td>\n",
       "      <td>3449373.0</td>\n",
       "      <td>186642.0</td>\n",
       "      <td>58324.0</td>\n",
       "      <td>3358029.0</td>\n",
       "    </tr>\n",
       "    <tr>\n",
       "      <td>5090</td>\n",
       "      <td>Deep-Dish Wild Blueberry Pie</td>\n",
       "      <td>4.375</td>\n",
       "      <td>27570999.0</td>\n",
       "      <td>1716279.0</td>\n",
       "      <td>200210.0</td>\n",
       "      <td>29997918.0</td>\n",
       "    </tr>\n",
       "    <tr>\n",
       "      <td>5522</td>\n",
       "      <td>Chocolate-Almond Pie</td>\n",
       "      <td>3.125</td>\n",
       "      <td>3449512.0</td>\n",
       "      <td>186660.0</td>\n",
       "      <td>58334.0</td>\n",
       "      <td>3358273.0</td>\n",
       "    </tr>\n",
       "    <tr>\n",
       "      <td>7753</td>\n",
       "      <td>Rice Pilaf with Lamb, Carrots, and Raisins</td>\n",
       "      <td>5.000</td>\n",
       "      <td>3134853.0</td>\n",
       "      <td>221495.0</td>\n",
       "      <td>236489.0</td>\n",
       "      <td>4157357.0</td>\n",
       "    </tr>\n",
       "    <tr>\n",
       "      <td>8451</td>\n",
       "      <td>Baked Oysters with Bacon</td>\n",
       "      <td>0.000</td>\n",
       "      <td>116178.0</td>\n",
       "      <td>24.0</td>\n",
       "      <td>29.0</td>\n",
       "      <td>443.0</td>\n",
       "    </tr>\n",
       "    <tr>\n",
       "      <td>9082</td>\n",
       "      <td>Pear-Cranberry Mincemeat Lattice Pie</td>\n",
       "      <td>4.375</td>\n",
       "      <td>27675110.0</td>\n",
       "      <td>1722763.0</td>\n",
       "      <td>200968.0</td>\n",
       "      <td>30111218.0</td>\n",
       "    </tr>\n",
       "    <tr>\n",
       "      <td>12895</td>\n",
       "      <td>Red Snapper Baked in Salt with Romesco Sauce</td>\n",
       "      <td>4.375</td>\n",
       "      <td>132025.0</td>\n",
       "      <td>20.0</td>\n",
       "      <td>49.0</td>\n",
       "      <td>425.0</td>\n",
       "    </tr>\n",
       "    <tr>\n",
       "      <td>15627</td>\n",
       "      <td>Apricot, Cranberry and Walnut Pie</td>\n",
       "      <td>4.375</td>\n",
       "      <td>12005810.0</td>\n",
       "      <td>747374.0</td>\n",
       "      <td>87188.0</td>\n",
       "      <td>13062948.0</td>\n",
       "    </tr>\n",
       "  </tbody>\n",
       "</table>\n",
       "</div>"
      ],
      "text/plain": [
       "                                               title  rating      sodium  \\\n",
       "1039     Rice Pilaf with Lamb, Carrots, and Raisins    5.000   3134853.0   \n",
       "2369                  Lamb Köfte with Tarator Sauce    5.000   7540990.0   \n",
       "2609                 Whole Branzino Roasted in Salt    5.000    132220.0   \n",
       "4120                 Caramelized Apple and Pear Pie    3.125   3449373.0   \n",
       "5090                   Deep-Dish Wild Blueberry Pie    4.375  27570999.0   \n",
       "5522                           Chocolate-Almond Pie    3.125   3449512.0   \n",
       "7753     Rice Pilaf with Lamb, Carrots, and Raisins    5.000   3134853.0   \n",
       "8451                       Baked Oysters with Bacon    0.000    116178.0   \n",
       "9082           Pear-Cranberry Mincemeat Lattice Pie    4.375  27675110.0   \n",
       "12895  Red Snapper Baked in Salt with Romesco Sauce    4.375    132025.0   \n",
       "15627             Apricot, Cranberry and Walnut Pie    4.375  12005810.0   \n",
       "\n",
       "             fat   protein    calories  \n",
       "1039    221495.0  236489.0   4157357.0  \n",
       "2369     44198.0  166471.0   4518216.0  \n",
       "2609        20.0      53.0       417.0  \n",
       "4120    186642.0   58324.0   3358029.0  \n",
       "5090   1716279.0  200210.0  29997918.0  \n",
       "5522    186660.0   58334.0   3358273.0  \n",
       "7753    221495.0  236489.0   4157357.0  \n",
       "8451        24.0      29.0       443.0  \n",
       "9082   1722763.0  200968.0  30111218.0  \n",
       "12895       20.0      49.0       425.0  \n",
       "15627   747374.0   87188.0  13062948.0  "
      ]
     },
     "execution_count": 36,
     "metadata": {},
     "output_type": "execute_result"
    }
   ],
   "source": [
    "df.loc[df.sodium > 1e5]"
   ]
  },
  {
   "cell_type": "code",
   "execution_count": null,
   "metadata": {},
   "outputs": [],
   "source": []
  }
 ],
 "metadata": {
  "kernelspec": {
   "display_name": "Python 3",
   "language": "python",
   "name": "python3"
  },
  "language_info": {
   "codemirror_mode": {
    "name": "ipython",
    "version": 3
   },
   "file_extension": ".py",
   "mimetype": "text/x-python",
   "name": "python",
   "nbconvert_exporter": "python",
   "pygments_lexer": "ipython3",
   "version": "3.7.4"
  }
 },
 "nbformat": 4,
 "nbformat_minor": 2
}
