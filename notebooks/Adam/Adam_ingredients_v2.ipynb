{
 "cells": [
  {
   "cell_type": "markdown",
   "metadata": {},
   "source": [
    "Comprehensive look (version 2) at the ingredients in JSON and in .csv ingredient seznam.\n",
    "The output is a new JSON with added ingredients_individually column. "
   ]
  },
  {
   "cell_type": "code",
   "execution_count": 1,
   "metadata": {},
   "outputs": [],
   "source": [
    "import pandas as pd\n",
    "import json\n",
    "import numpy as np\n",
    "import csv"
   ]
  },
  {
   "cell_type": "code",
   "execution_count": 2,
   "metadata": {},
   "outputs": [],
   "source": [
    "from tqdm import tqdm\n",
    "import inflect\n",
    "from unidecode import unidecode"
   ]
  },
  {
   "cell_type": "code",
   "execution_count": 3,
   "metadata": {},
   "outputs": [],
   "source": [
    "recipes_filename = \"../../data/full_format_recipes.json\""
   ]
  },
  {
   "cell_type": "code",
   "execution_count": 4,
   "metadata": {},
   "outputs": [
    {
     "data": {
      "text/plain": [
       "20130"
      ]
     },
     "execution_count": 4,
     "metadata": {},
     "output_type": "execute_result"
    }
   ],
   "source": [
    "df = pd.read_json(recipes_filename)\n",
    "len(df)"
   ]
  },
  {
   "cell_type": "code",
   "execution_count": 5,
   "metadata": {},
   "outputs": [
    {
     "data": {
      "text/html": [
       "<div>\n",
       "<style scoped>\n",
       "    .dataframe tbody tr th:only-of-type {\n",
       "        vertical-align: middle;\n",
       "    }\n",
       "\n",
       "    .dataframe tbody tr th {\n",
       "        vertical-align: top;\n",
       "    }\n",
       "\n",
       "    .dataframe thead th {\n",
       "        text-align: right;\n",
       "    }\n",
       "</style>\n",
       "<table border=\"1\" class=\"dataframe\">\n",
       "  <thead>\n",
       "    <tr style=\"text-align: right;\">\n",
       "      <th></th>\n",
       "      <th>directions</th>\n",
       "      <th>fat</th>\n",
       "      <th>date</th>\n",
       "      <th>categories</th>\n",
       "      <th>calories</th>\n",
       "      <th>desc</th>\n",
       "      <th>protein</th>\n",
       "      <th>rating</th>\n",
       "      <th>title</th>\n",
       "      <th>ingredients</th>\n",
       "      <th>sodium</th>\n",
       "    </tr>\n",
       "  </thead>\n",
       "  <tbody>\n",
       "    <tr>\n",
       "      <td>0</td>\n",
       "      <td>[1. Place the stock, lentils, celery, carrot, ...</td>\n",
       "      <td>7.0</td>\n",
       "      <td>2006-09-01 04:00:00+00:00</td>\n",
       "      <td>[Sandwich, Bean, Fruit, Tomato, turkey, Vegeta...</td>\n",
       "      <td>426.0</td>\n",
       "      <td>None</td>\n",
       "      <td>30.0</td>\n",
       "      <td>2.500</td>\n",
       "      <td>Lentil, Apple, and Turkey Wrap</td>\n",
       "      <td>[4 cups low-sodium vegetable or chicken stock,...</td>\n",
       "      <td>559.0</td>\n",
       "    </tr>\n",
       "    <tr>\n",
       "      <td>1</td>\n",
       "      <td>[Combine first 9 ingredients in heavy medium s...</td>\n",
       "      <td>23.0</td>\n",
       "      <td>2004-08-20 04:00:00+00:00</td>\n",
       "      <td>[Food Processor, Onion, Pork, Bake, Bastille D...</td>\n",
       "      <td>403.0</td>\n",
       "      <td>This uses the same ingredients found in boudin...</td>\n",
       "      <td>18.0</td>\n",
       "      <td>4.375</td>\n",
       "      <td>Boudin Blanc Terrine with Red Onion Confit</td>\n",
       "      <td>[1 1/2 cups whipping cream, 2 medium onions, c...</td>\n",
       "      <td>1439.0</td>\n",
       "    </tr>\n",
       "    <tr>\n",
       "      <td>2</td>\n",
       "      <td>[In a large heavy saucepan cook diced fennel a...</td>\n",
       "      <td>7.0</td>\n",
       "      <td>2004-08-20 04:00:00+00:00</td>\n",
       "      <td>[Soup/Stew, Dairy, Potato, Vegetable, Fennel, ...</td>\n",
       "      <td>165.0</td>\n",
       "      <td>None</td>\n",
       "      <td>6.0</td>\n",
       "      <td>3.750</td>\n",
       "      <td>Potato and Fennel Soup Hodge</td>\n",
       "      <td>[1 fennel bulb (sometimes called anise), stalk...</td>\n",
       "      <td>165.0</td>\n",
       "    </tr>\n",
       "    <tr>\n",
       "      <td>3</td>\n",
       "      <td>[Heat oil in heavy large skillet over medium-h...</td>\n",
       "      <td>NaN</td>\n",
       "      <td>2009-03-27 04:00:00+00:00</td>\n",
       "      <td>[Fish, Olive, Tomato, Sauté, Low Fat, Low Cal,...</td>\n",
       "      <td>NaN</td>\n",
       "      <td>The Sicilian-style tomato sauce has tons of Me...</td>\n",
       "      <td>NaN</td>\n",
       "      <td>5.000</td>\n",
       "      <td>Mahi-Mahi in Tomato Olive Sauce</td>\n",
       "      <td>[2 tablespoons extra-virgin olive oil, 1 cup c...</td>\n",
       "      <td>NaN</td>\n",
       "    </tr>\n",
       "    <tr>\n",
       "      <td>4</td>\n",
       "      <td>[Preheat oven to 350°F. Lightly grease 8x8x2-i...</td>\n",
       "      <td>32.0</td>\n",
       "      <td>2004-08-20 04:00:00+00:00</td>\n",
       "      <td>[Cheese, Dairy, Pasta, Vegetable, Side, Bake, ...</td>\n",
       "      <td>547.0</td>\n",
       "      <td>None</td>\n",
       "      <td>20.0</td>\n",
       "      <td>3.125</td>\n",
       "      <td>Spinach Noodle Casserole</td>\n",
       "      <td>[1 12-ounce package frozen spinach soufflé, th...</td>\n",
       "      <td>452.0</td>\n",
       "    </tr>\n",
       "  </tbody>\n",
       "</table>\n",
       "</div>"
      ],
      "text/plain": [
       "                                          directions   fat  \\\n",
       "0  [1. Place the stock, lentils, celery, carrot, ...   7.0   \n",
       "1  [Combine first 9 ingredients in heavy medium s...  23.0   \n",
       "2  [In a large heavy saucepan cook diced fennel a...   7.0   \n",
       "3  [Heat oil in heavy large skillet over medium-h...   NaN   \n",
       "4  [Preheat oven to 350°F. Lightly grease 8x8x2-i...  32.0   \n",
       "\n",
       "                       date  \\\n",
       "0 2006-09-01 04:00:00+00:00   \n",
       "1 2004-08-20 04:00:00+00:00   \n",
       "2 2004-08-20 04:00:00+00:00   \n",
       "3 2009-03-27 04:00:00+00:00   \n",
       "4 2004-08-20 04:00:00+00:00   \n",
       "\n",
       "                                          categories  calories  \\\n",
       "0  [Sandwich, Bean, Fruit, Tomato, turkey, Vegeta...     426.0   \n",
       "1  [Food Processor, Onion, Pork, Bake, Bastille D...     403.0   \n",
       "2  [Soup/Stew, Dairy, Potato, Vegetable, Fennel, ...     165.0   \n",
       "3  [Fish, Olive, Tomato, Sauté, Low Fat, Low Cal,...       NaN   \n",
       "4  [Cheese, Dairy, Pasta, Vegetable, Side, Bake, ...     547.0   \n",
       "\n",
       "                                                desc  protein  rating  \\\n",
       "0                                               None     30.0   2.500   \n",
       "1  This uses the same ingredients found in boudin...     18.0   4.375   \n",
       "2                                               None      6.0   3.750   \n",
       "3  The Sicilian-style tomato sauce has tons of Me...      NaN   5.000   \n",
       "4                                               None     20.0   3.125   \n",
       "\n",
       "                                         title  \\\n",
       "0              Lentil, Apple, and Turkey Wrap    \n",
       "1  Boudin Blanc Terrine with Red Onion Confit    \n",
       "2                Potato and Fennel Soup Hodge    \n",
       "3             Mahi-Mahi in Tomato Olive Sauce    \n",
       "4                    Spinach Noodle Casserole    \n",
       "\n",
       "                                         ingredients  sodium  \n",
       "0  [4 cups low-sodium vegetable or chicken stock,...   559.0  \n",
       "1  [1 1/2 cups whipping cream, 2 medium onions, c...  1439.0  \n",
       "2  [1 fennel bulb (sometimes called anise), stalk...   165.0  \n",
       "3  [2 tablespoons extra-virgin olive oil, 1 cup c...     NaN  \n",
       "4  [1 12-ounce package frozen spinach soufflé, th...   452.0  "
      ]
     },
     "execution_count": 5,
     "metadata": {},
     "output_type": "execute_result"
    }
   ],
   "source": [
    "df.head(5)"
   ]
  },
  {
   "cell_type": "code",
   "execution_count": 6,
   "metadata": {},
   "outputs": [
    {
     "data": {
      "text/plain": [
       "Int64Index([ 1076,  1135,  1907,  5146,  5424,  5558,  7607,  7768,  7881,\n",
       "             8177,  9590, 10085, 11224, 13206, 13944, 14684, 16210, 16903,\n",
       "            19547],\n",
       "           dtype='int64')"
      ]
     },
     "execution_count": 6,
     "metadata": {},
     "output_type": "execute_result"
    }
   ],
   "source": [
    "null_values_indexes = df[df['ingredients'].isnull() == True].index\n",
    "null_values_indexes"
   ]
  },
  {
   "cell_type": "code",
   "execution_count": 7,
   "metadata": {},
   "outputs": [],
   "source": [
    "df = df.drop(index = null_values_indexes).reset_index(drop=True) #drop indexes with ingredient being nan"
   ]
  },
  {
   "cell_type": "markdown",
   "metadata": {},
   "source": [
    "# JSON Ingredients"
   ]
  },
  {
   "cell_type": "markdown",
   "metadata": {},
   "source": [
    "I took the first n ingredients from JSON (*ingredients*) and list of .csv ingredients (in *seznam*). \n",
    "\n",
    "I added space before and after each element in JSON ingredients, replaced (, \\*, (, ), - and ;) all with space before and after each character, lowercased ingredient and converted to latin characters (e. g. crème fraîche to creme fraiche).\n",
    "\n",
    "I added space before and after each element in seznam. The seznam was provided with plural form (being an output of last observations). The spaces are important because of ability to distinguish between e. g. *teaspoon* and *tea* (we want to find only *tea*).\n",
    "\n",
    "Then I sorted the seznam based on length and alphabetically, for assuring that the longest found seznam element in json ingredient would be found."
   ]
  },
  {
   "cell_type": "code",
   "execution_count": 8,
   "metadata": {},
   "outputs": [],
   "source": [
    "p = inflect.engine() #plural forms engine"
   ]
  },
  {
   "cell_type": "code",
   "execution_count": 9,
   "metadata": {},
   "outputs": [
    {
     "name": "stderr",
     "output_type": "stream",
     "text": [
      "100%|█████████████████████████████████████████████████████████████████████████| 20111/20111 [00:01<00:00, 17574.83it/s]\n"
     ]
    }
   ],
   "source": [
    "#first_n = 1000\n",
    "first_n = len(df['ingredients'])\n",
    "ingredients = [x[:] for x in df['ingredients'][:first_n]]\n",
    "ingredients_individually = [x[:] for x in df['ingredients'][:first_n]]\n",
    "\n",
    "for i, ingredient in enumerate(tqdm(ingredients)):\n",
    "    for j, row_ingredient in enumerate(ingredient):\n",
    "        ingredients[i][j] = ' ' + ingredients[i][j] + ' '\n",
    "        ingredients[i][j] = ingredients[i][j].replace(\",\", \" , \")\n",
    "        ingredients[i][j] = ingredients[i][j].replace(\"*\", \" * \")\n",
    "        ingredients[i][j] = ingredients[i][j].replace(\"(\", \" ( \")\n",
    "        ingredients[i][j] = ingredients[i][j].replace(\")\", \" ) \")\n",
    "        ingredients[i][j] = ingredients[i][j].replace(\"-\", \" - \")\n",
    "        ingredients[i][j] = ingredients[i][j].replace(\";\", \" ; \")\n",
    "        ingredients[i][j] = ingredients[i][j].lower()\n",
    "        ingredients[i][j] = unidecode(ingredients[i][j])\n",
    "        ingredients_individually[i][j] = 'UNKNOWN'"
   ]
  },
  {
   "cell_type": "code",
   "execution_count": 10,
   "metadata": {},
   "outputs": [
    {
     "data": {
      "text/plain": [
       "[' 4 cups low - sodium vegetable or chicken stock ',\n",
       " ' 1 cup dried brown lentils ',\n",
       " ' 1/2 cup dried french green lentils ',\n",
       " ' 2 stalks celery ,  chopped ',\n",
       " ' 1 large carrot ,  peeled and chopped ',\n",
       " ' 1 sprig fresh thyme ',\n",
       " ' 1 teaspoon kosher salt ',\n",
       " ' 1 medium tomato ,  cored ,  seeded ,  and diced ',\n",
       " ' 1 small fuji apple ,  cored and diced ',\n",
       " ' 1 tablespoon freshly squeezed lemon juice ',\n",
       " ' 2 teaspoons extra - virgin olive oil ',\n",
       " ' freshly ground black pepper to taste ',\n",
       " ' 3 sheets whole - wheat lavash ,  cut in half crosswise ,  or 6  ( 12 - inch )  flour tortillas ',\n",
       " ' 3/4 pound turkey breast ,  thinly sliced ',\n",
       " ' 1/2 head bibb lettuce ']"
      ]
     },
     "execution_count": 10,
     "metadata": {},
     "output_type": "execute_result"
    }
   ],
   "source": [
    "ingredients[0]"
   ]
  },
  {
   "cell_type": "code",
   "execution_count": 11,
   "metadata": {},
   "outputs": [
    {
     "data": {
      "text/plain": [
       "2102"
      ]
     },
     "execution_count": 11,
     "metadata": {},
     "output_type": "execute_result"
    }
   ],
   "source": [
    "#with open('../../data/seznam_all.csv', 'r') as f:\n",
    "with open('../../data/seznam_noadj.csv', 'r') as f:\n",
    "    reader = csv.reader(f)\n",
    "    seznam = list(reader)\n",
    "seznam = [''.join(x) for x in seznam] #make list of strings from list of lists\n",
    "seznam = [x.strip() for x in seznam] #remove spaces before and after\n",
    "seznam = [unidecode(x) for x in seznam] #remove diacritics\n",
    "seznam = [' {0} '.format(elem) for elem in seznam] #add a space before and after a word\n",
    "seznam = seznam[1:] #drop column name\n",
    "\n",
    "#for i in range(len(seznam)):\n",
    "#    seznam.append(p.plural(seznam[i]))\n",
    "        \n",
    "seznam.sort() # sorts normally by alphabetical order\n",
    "seznam.sort(key=len, reverse=False)  # sorts by ascending length\n",
    "\n",
    "len(seznam)  "
   ]
  },
  {
   "cell_type": "code",
   "execution_count": 12,
   "metadata": {},
   "outputs": [
    {
     "data": {
      "text/plain": [
       "[' TVP ',\n",
       " ' ahi ',\n",
       " ' ale ',\n",
       " ' bow ',\n",
       " ' bun ',\n",
       " ' cod ',\n",
       " ' dal ',\n",
       " ' egg ',\n",
       " ' fat ',\n",
       " ' fat ']"
      ]
     },
     "execution_count": 12,
     "metadata": {},
     "output_type": "execute_result"
    }
   ],
   "source": [
    "seznam[:10]"
   ]
  },
  {
   "cell_type": "code",
   "execution_count": 13,
   "metadata": {},
   "outputs": [
    {
     "name": "stderr",
     "output_type": "stream",
     "text": [
      "100%|███████████████████████████████████████████████████████████████████████████| 20111/20111 [01:05<00:00, 304.83it/s]\n"
     ]
    }
   ],
   "source": [
    "for i, ingredient in enumerate(tqdm(ingredients)):\n",
    "    for j, row_ingredient in enumerate(ingredient):\n",
    "        for polozka in seznam:\n",
    "            if polozka in row_ingredient:\n",
    "                ingredients_individually[i][j] = polozka.strip()"
   ]
  },
  {
   "cell_type": "markdown",
   "metadata": {},
   "source": [
    "### First check"
   ]
  },
  {
   "cell_type": "code",
   "execution_count": 14,
   "metadata": {},
   "outputs": [
    {
     "data": {
      "text/plain": [
       "[' 4 cups low - sodium vegetable or chicken stock ',\n",
       " ' 1 cup dried brown lentils ',\n",
       " ' 1/2 cup dried french green lentils ',\n",
       " ' 2 stalks celery ,  chopped ',\n",
       " ' 1 large carrot ,  peeled and chopped ',\n",
       " ' 1 sprig fresh thyme ',\n",
       " ' 1 teaspoon kosher salt ',\n",
       " ' 1 medium tomato ,  cored ,  seeded ,  and diced ',\n",
       " ' 1 small fuji apple ,  cored and diced ',\n",
       " ' 1 tablespoon freshly squeezed lemon juice ',\n",
       " ' 2 teaspoons extra - virgin olive oil ',\n",
       " ' freshly ground black pepper to taste ',\n",
       " ' 3 sheets whole - wheat lavash ,  cut in half crosswise ,  or 6  ( 12 - inch )  flour tortillas ',\n",
       " ' 3/4 pound turkey breast ,  thinly sliced ',\n",
       " ' 1/2 head bibb lettuce ']"
      ]
     },
     "execution_count": 14,
     "metadata": {},
     "output_type": "execute_result"
    }
   ],
   "source": [
    "ingredients[0]"
   ]
  },
  {
   "cell_type": "code",
   "execution_count": 15,
   "metadata": {},
   "outputs": [
    {
     "data": {
      "text/plain": [
       "['chicken stock',\n",
       " 'lentils',\n",
       " 'lentils',\n",
       " 'celery',\n",
       " 'carrot',\n",
       " 'thyme',\n",
       " 'kosher salt',\n",
       " 'tomato',\n",
       " 'apple',\n",
       " 'lemon juice',\n",
       " 'olive oil',\n",
       " 'pepper',\n",
       " 'flour tortillas',\n",
       " 'turkey breast',\n",
       " 'bibb lettuce']"
      ]
     },
     "execution_count": 15,
     "metadata": {},
     "output_type": "execute_result"
    }
   ],
   "source": [
    "ingredients_individually[0]"
   ]
  },
  {
   "cell_type": "markdown",
   "metadata": {},
   "source": [
    "### New ingredients_individually column"
   ]
  },
  {
   "cell_type": "code",
   "execution_count": 16,
   "metadata": {},
   "outputs": [
    {
     "name": "stderr",
     "output_type": "stream",
     "text": [
      "  0%|                                                                                        | 0/20111 [00:00<?, ?it/s]c:\\users\\admin\\.conda\\envs\\test_venv\\lib\\site-packages\\ipykernel_launcher.py:3: SettingWithCopyWarning: \n",
      "A value is trying to be set on a copy of a slice from a DataFrame\n",
      "\n",
      "See the caveats in the documentation: http://pandas.pydata.org/pandas-docs/stable/user_guide/indexing.html#returning-a-view-versus-a-copy\n",
      "  This is separate from the ipykernel package so we can avoid doing imports until\n",
      "c:\\users\\admin\\.conda\\envs\\test_venv\\lib\\site-packages\\pandas\\core\\indexing.py:205: SettingWithCopyWarning: \n",
      "A value is trying to be set on a copy of a slice from a DataFrame\n",
      "\n",
      "See the caveats in the documentation: http://pandas.pydata.org/pandas-docs/stable/user_guide/indexing.html#returning-a-view-versus-a-copy\n",
      "  self._setitem_with_indexer(indexer, value)\n",
      "100%|██████████████████████████████████████████████████████████████████████████| 20111/20111 [00:04<00:00, 4456.63it/s]\n"
     ]
    }
   ],
   "source": [
    "df['ingredients_individually'] = np.nan\n",
    "for j in tqdm(range(len(ingredients))):\n",
    "    df['ingredients_individually'][j] = ingredients_individually[j]"
   ]
  },
  {
   "cell_type": "code",
   "execution_count": 17,
   "metadata": {},
   "outputs": [
    {
     "data": {
      "text/html": [
       "<div>\n",
       "<style scoped>\n",
       "    .dataframe tbody tr th:only-of-type {\n",
       "        vertical-align: middle;\n",
       "    }\n",
       "\n",
       "    .dataframe tbody tr th {\n",
       "        vertical-align: top;\n",
       "    }\n",
       "\n",
       "    .dataframe thead th {\n",
       "        text-align: right;\n",
       "    }\n",
       "</style>\n",
       "<table border=\"1\" class=\"dataframe\">\n",
       "  <thead>\n",
       "    <tr style=\"text-align: right;\">\n",
       "      <th></th>\n",
       "      <th>directions</th>\n",
       "      <th>fat</th>\n",
       "      <th>date</th>\n",
       "      <th>categories</th>\n",
       "      <th>calories</th>\n",
       "      <th>desc</th>\n",
       "      <th>protein</th>\n",
       "      <th>rating</th>\n",
       "      <th>title</th>\n",
       "      <th>ingredients</th>\n",
       "      <th>sodium</th>\n",
       "      <th>ingredients_individually</th>\n",
       "    </tr>\n",
       "  </thead>\n",
       "  <tbody>\n",
       "    <tr>\n",
       "      <td>0</td>\n",
       "      <td>[1. Place the stock, lentils, celery, carrot, ...</td>\n",
       "      <td>7.0</td>\n",
       "      <td>2006-09-01 04:00:00+00:00</td>\n",
       "      <td>[Sandwich, Bean, Fruit, Tomato, turkey, Vegeta...</td>\n",
       "      <td>426.0</td>\n",
       "      <td>None</td>\n",
       "      <td>30.0</td>\n",
       "      <td>2.500</td>\n",
       "      <td>Lentil, Apple, and Turkey Wrap</td>\n",
       "      <td>[4 cups low-sodium vegetable or chicken stock,...</td>\n",
       "      <td>559.0</td>\n",
       "      <td>[chicken stock, lentils, lentils, celery, carr...</td>\n",
       "    </tr>\n",
       "    <tr>\n",
       "      <td>1</td>\n",
       "      <td>[Combine first 9 ingredients in heavy medium s...</td>\n",
       "      <td>23.0</td>\n",
       "      <td>2004-08-20 04:00:00+00:00</td>\n",
       "      <td>[Food Processor, Onion, Pork, Bake, Bastille D...</td>\n",
       "      <td>403.0</td>\n",
       "      <td>This uses the same ingredients found in boudin...</td>\n",
       "      <td>18.0</td>\n",
       "      <td>4.375</td>\n",
       "      <td>Boudin Blanc Terrine with Red Onion Confit</td>\n",
       "      <td>[1 1/2 cups whipping cream, 2 medium onions, c...</td>\n",
       "      <td>1439.0</td>\n",
       "      <td>[cream, onions, salt, bay leaves, cloves, garl...</td>\n",
       "    </tr>\n",
       "    <tr>\n",
       "      <td>2</td>\n",
       "      <td>[In a large heavy saucepan cook diced fennel a...</td>\n",
       "      <td>7.0</td>\n",
       "      <td>2004-08-20 04:00:00+00:00</td>\n",
       "      <td>[Soup/Stew, Dairy, Potato, Vegetable, Fennel, ...</td>\n",
       "      <td>165.0</td>\n",
       "      <td>None</td>\n",
       "      <td>6.0</td>\n",
       "      <td>3.750</td>\n",
       "      <td>Potato and Fennel Soup Hodge</td>\n",
       "      <td>[1 fennel bulb (sometimes called anise), stalk...</td>\n",
       "      <td>165.0</td>\n",
       "      <td>[fennel bulb, onion, butter, potatoes, chicken...</td>\n",
       "    </tr>\n",
       "    <tr>\n",
       "      <td>3</td>\n",
       "      <td>[Heat oil in heavy large skillet over medium-h...</td>\n",
       "      <td>NaN</td>\n",
       "      <td>2009-03-27 04:00:00+00:00</td>\n",
       "      <td>[Fish, Olive, Tomato, Sauté, Low Fat, Low Cal,...</td>\n",
       "      <td>NaN</td>\n",
       "      <td>The Sicilian-style tomato sauce has tons of Me...</td>\n",
       "      <td>NaN</td>\n",
       "      <td>5.000</td>\n",
       "      <td>Mahi-Mahi in Tomato Olive Sauce</td>\n",
       "      <td>[2 tablespoons extra-virgin olive oil, 1 cup c...</td>\n",
       "      <td>NaN</td>\n",
       "      <td>[olive oil, onion, wine, anchovy paste, tomato...</td>\n",
       "    </tr>\n",
       "    <tr>\n",
       "      <td>4</td>\n",
       "      <td>[Preheat oven to 350°F. Lightly grease 8x8x2-i...</td>\n",
       "      <td>32.0</td>\n",
       "      <td>2004-08-20 04:00:00+00:00</td>\n",
       "      <td>[Cheese, Dairy, Pasta, Vegetable, Side, Bake, ...</td>\n",
       "      <td>547.0</td>\n",
       "      <td>None</td>\n",
       "      <td>20.0</td>\n",
       "      <td>3.125</td>\n",
       "      <td>Spinach Noodle Casserole</td>\n",
       "      <td>[1 12-ounce package frozen spinach soufflé, th...</td>\n",
       "      <td>452.0</td>\n",
       "      <td>[spinach, egg noodles, cream, pesto sauce, nut...</td>\n",
       "    </tr>\n",
       "  </tbody>\n",
       "</table>\n",
       "</div>"
      ],
      "text/plain": [
       "                                          directions   fat  \\\n",
       "0  [1. Place the stock, lentils, celery, carrot, ...   7.0   \n",
       "1  [Combine first 9 ingredients in heavy medium s...  23.0   \n",
       "2  [In a large heavy saucepan cook diced fennel a...   7.0   \n",
       "3  [Heat oil in heavy large skillet over medium-h...   NaN   \n",
       "4  [Preheat oven to 350°F. Lightly grease 8x8x2-i...  32.0   \n",
       "\n",
       "                       date  \\\n",
       "0 2006-09-01 04:00:00+00:00   \n",
       "1 2004-08-20 04:00:00+00:00   \n",
       "2 2004-08-20 04:00:00+00:00   \n",
       "3 2009-03-27 04:00:00+00:00   \n",
       "4 2004-08-20 04:00:00+00:00   \n",
       "\n",
       "                                          categories  calories  \\\n",
       "0  [Sandwich, Bean, Fruit, Tomato, turkey, Vegeta...     426.0   \n",
       "1  [Food Processor, Onion, Pork, Bake, Bastille D...     403.0   \n",
       "2  [Soup/Stew, Dairy, Potato, Vegetable, Fennel, ...     165.0   \n",
       "3  [Fish, Olive, Tomato, Sauté, Low Fat, Low Cal,...       NaN   \n",
       "4  [Cheese, Dairy, Pasta, Vegetable, Side, Bake, ...     547.0   \n",
       "\n",
       "                                                desc  protein  rating  \\\n",
       "0                                               None     30.0   2.500   \n",
       "1  This uses the same ingredients found in boudin...     18.0   4.375   \n",
       "2                                               None      6.0   3.750   \n",
       "3  The Sicilian-style tomato sauce has tons of Me...      NaN   5.000   \n",
       "4                                               None     20.0   3.125   \n",
       "\n",
       "                                         title  \\\n",
       "0              Lentil, Apple, and Turkey Wrap    \n",
       "1  Boudin Blanc Terrine with Red Onion Confit    \n",
       "2                Potato and Fennel Soup Hodge    \n",
       "3             Mahi-Mahi in Tomato Olive Sauce    \n",
       "4                    Spinach Noodle Casserole    \n",
       "\n",
       "                                         ingredients  sodium  \\\n",
       "0  [4 cups low-sodium vegetable or chicken stock,...   559.0   \n",
       "1  [1 1/2 cups whipping cream, 2 medium onions, c...  1439.0   \n",
       "2  [1 fennel bulb (sometimes called anise), stalk...   165.0   \n",
       "3  [2 tablespoons extra-virgin olive oil, 1 cup c...     NaN   \n",
       "4  [1 12-ounce package frozen spinach soufflé, th...   452.0   \n",
       "\n",
       "                            ingredients_individually  \n",
       "0  [chicken stock, lentils, lentils, celery, carr...  \n",
       "1  [cream, onions, salt, bay leaves, cloves, garl...  \n",
       "2  [fennel bulb, onion, butter, potatoes, chicken...  \n",
       "3  [olive oil, onion, wine, anchovy paste, tomato...  \n",
       "4  [spinach, egg noodles, cream, pesto sauce, nut...  "
      ]
     },
     "execution_count": 17,
     "metadata": {},
     "output_type": "execute_result"
    }
   ],
   "source": [
    "df.head()"
   ]
  },
  {
   "cell_type": "markdown",
   "metadata": {},
   "source": [
    "### Find most frequent ingredients\n",
    "This list will be fed to search engine"
   ]
  },
  {
   "cell_type": "code",
   "execution_count": 19,
   "metadata": {
    "scrolled": true
   },
   "outputs": [
    {
     "name": "stderr",
     "output_type": "stream",
     "text": [
      "100%|███████████████████████████████████████████████████████████████████████████| 20111/20111 [00:58<00:00, 341.51it/s]\n"
     ]
    },
    {
     "data": {
      "text/plain": [
       "199030"
      ]
     },
     "execution_count": 19,
     "metadata": {},
     "output_type": "execute_result"
    }
   ],
   "source": [
    "all_ingredients_list = []\n",
    "for i in tqdm(range(len(df['ingredients_individually']))):\n",
    "    all_ingredients_list = all_ingredients_list + df['ingredients_individually'][i]\n",
    "    #all ingredients from seznam used in all recipes\n",
    "all_ingredients = np.array(all_ingredients_list)\n",
    "len(all_ingredients)"
   ]
  },
  {
   "cell_type": "code",
   "execution_count": 20,
   "metadata": {},
   "outputs": [
    {
     "name": "stdout",
     "output_type": "stream",
     "text": [
      "1914\n"
     ]
    }
   ],
   "source": [
    "unique, counts = np.unique(all_ingredients, return_counts=True)\n",
    "unique_df = pd.DataFrame(data = zip(unique, counts), columns = ['Unique', 'Counts'])\n",
    "unique_df = unique_df.sort_values(by = 'Counts', ascending = False)\n",
    "print(len(unique))"
   ]
  },
  {
   "cell_type": "code",
   "execution_count": 21,
   "metadata": {},
   "outputs": [
    {
     "data": {
      "text/html": [
       "<div>\n",
       "<style scoped>\n",
       "    .dataframe tbody tr th:only-of-type {\n",
       "        vertical-align: middle;\n",
       "    }\n",
       "\n",
       "    .dataframe tbody tr th {\n",
       "        vertical-align: top;\n",
       "    }\n",
       "\n",
       "    .dataframe thead th {\n",
       "        text-align: right;\n",
       "    }\n",
       "</style>\n",
       "<table border=\"1\" class=\"dataframe\">\n",
       "  <thead>\n",
       "    <tr style=\"text-align: right;\">\n",
       "      <th></th>\n",
       "      <th>Unique</th>\n",
       "      <th>Counts</th>\n",
       "    </tr>\n",
       "  </thead>\n",
       "  <tbody>\n",
       "    <tr>\n",
       "      <td>1661</td>\n",
       "      <td>sugar</td>\n",
       "      <td>8086</td>\n",
       "    </tr>\n",
       "    <tr>\n",
       "      <td>1091</td>\n",
       "      <td>olive oil</td>\n",
       "      <td>7176</td>\n",
       "    </tr>\n",
       "    <tr>\n",
       "      <td>207</td>\n",
       "      <td>butter</td>\n",
       "      <td>6545</td>\n",
       "    </tr>\n",
       "    <tr>\n",
       "      <td>1490</td>\n",
       "      <td>salt</td>\n",
       "      <td>6510</td>\n",
       "    </tr>\n",
       "    <tr>\n",
       "      <td>1210</td>\n",
       "      <td>pepper</td>\n",
       "      <td>4483</td>\n",
       "    </tr>\n",
       "    <tr>\n",
       "      <td>1862</td>\n",
       "      <td>water</td>\n",
       "      <td>3916</td>\n",
       "    </tr>\n",
       "    <tr>\n",
       "      <td>1095</td>\n",
       "      <td>onion</td>\n",
       "      <td>3858</td>\n",
       "    </tr>\n",
       "    <tr>\n",
       "      <td>696</td>\n",
       "      <td>garlic cloves</td>\n",
       "      <td>3379</td>\n",
       "    </tr>\n",
       "    <tr>\n",
       "      <td>668</td>\n",
       "      <td>flour</td>\n",
       "      <td>3362</td>\n",
       "    </tr>\n",
       "    <tr>\n",
       "      <td>527</td>\n",
       "      <td>cream</td>\n",
       "      <td>3358</td>\n",
       "    </tr>\n",
       "    <tr>\n",
       "      <td>910</td>\n",
       "      <td>lemon juice</td>\n",
       "      <td>3187</td>\n",
       "    </tr>\n",
       "    <tr>\n",
       "      <td>872</td>\n",
       "      <td>kosher salt</td>\n",
       "      <td>3012</td>\n",
       "    </tr>\n",
       "    <tr>\n",
       "      <td>0</td>\n",
       "      <td>UNKNOWN</td>\n",
       "      <td>2957</td>\n",
       "    </tr>\n",
       "    <tr>\n",
       "      <td>691</td>\n",
       "      <td>garlic</td>\n",
       "      <td>2779</td>\n",
       "    </tr>\n",
       "    <tr>\n",
       "      <td>1837</td>\n",
       "      <td>vegetable oil</td>\n",
       "      <td>2733</td>\n",
       "    </tr>\n",
       "    <tr>\n",
       "      <td>605</td>\n",
       "      <td>eggs</td>\n",
       "      <td>2401</td>\n",
       "    </tr>\n",
       "    <tr>\n",
       "      <td>1102</td>\n",
       "      <td>onions</td>\n",
       "      <td>1937</td>\n",
       "    </tr>\n",
       "    <tr>\n",
       "      <td>712</td>\n",
       "      <td>ginger</td>\n",
       "      <td>1808</td>\n",
       "    </tr>\n",
       "    <tr>\n",
       "      <td>1152</td>\n",
       "      <td>parsley</td>\n",
       "      <td>1787</td>\n",
       "    </tr>\n",
       "    <tr>\n",
       "      <td>1014</td>\n",
       "      <td>milk</td>\n",
       "      <td>1699</td>\n",
       "    </tr>\n",
       "    <tr>\n",
       "      <td>332</td>\n",
       "      <td>chicken broth</td>\n",
       "      <td>1632</td>\n",
       "    </tr>\n",
       "    <tr>\n",
       "      <td>1890</td>\n",
       "      <td>wine</td>\n",
       "      <td>1601</td>\n",
       "    </tr>\n",
       "    <tr>\n",
       "      <td>427</td>\n",
       "      <td>cinnamon</td>\n",
       "      <td>1502</td>\n",
       "    </tr>\n",
       "    <tr>\n",
       "      <td>930</td>\n",
       "      <td>lime juice</td>\n",
       "      <td>1419</td>\n",
       "    </tr>\n",
       "    <tr>\n",
       "      <td>1748</td>\n",
       "      <td>tomatoes</td>\n",
       "      <td>1342</td>\n",
       "    </tr>\n",
       "    <tr>\n",
       "      <td>1811</td>\n",
       "      <td>vanilla extract</td>\n",
       "      <td>1257</td>\n",
       "    </tr>\n",
       "    <tr>\n",
       "      <td>1726</td>\n",
       "      <td>thyme</td>\n",
       "      <td>1228</td>\n",
       "    </tr>\n",
       "    <tr>\n",
       "      <td>421</td>\n",
       "      <td>cilantro</td>\n",
       "      <td>1167</td>\n",
       "    </tr>\n",
       "    <tr>\n",
       "      <td>1891</td>\n",
       "      <td>wine vinegar</td>\n",
       "      <td>1155</td>\n",
       "    </tr>\n",
       "    <tr>\n",
       "      <td>1344</td>\n",
       "      <td>potatoes</td>\n",
       "      <td>1051</td>\n",
       "    </tr>\n",
       "    <tr>\n",
       "      <td>1345</td>\n",
       "      <td>powder</td>\n",
       "      <td>1018</td>\n",
       "    </tr>\n",
       "    <tr>\n",
       "      <td>138</td>\n",
       "      <td>bell pepper</td>\n",
       "      <td>1005</td>\n",
       "    </tr>\n",
       "    <tr>\n",
       "      <td>595</td>\n",
       "      <td>egg</td>\n",
       "      <td>998</td>\n",
       "    </tr>\n",
       "    <tr>\n",
       "      <td>266</td>\n",
       "      <td>carrots</td>\n",
       "      <td>991</td>\n",
       "    </tr>\n",
       "    <tr>\n",
       "      <td>1607</td>\n",
       "      <td>soy sauce</td>\n",
       "      <td>957</td>\n",
       "    </tr>\n",
       "    <tr>\n",
       "      <td>566</td>\n",
       "      <td>dijon mustard</td>\n",
       "      <td>950</td>\n",
       "    </tr>\n",
       "    <tr>\n",
       "      <td>811</td>\n",
       "      <td>honey</td>\n",
       "      <td>936</td>\n",
       "    </tr>\n",
       "    <tr>\n",
       "      <td>394</td>\n",
       "      <td>chocolate</td>\n",
       "      <td>915</td>\n",
       "    </tr>\n",
       "    <tr>\n",
       "      <td>1537</td>\n",
       "      <td>shallots</td>\n",
       "      <td>894</td>\n",
       "    </tr>\n",
       "    <tr>\n",
       "      <td>543</td>\n",
       "      <td>cumin</td>\n",
       "      <td>893</td>\n",
       "    </tr>\n",
       "    <tr>\n",
       "      <td>283</td>\n",
       "      <td>celery</td>\n",
       "      <td>843</td>\n",
       "    </tr>\n",
       "    <tr>\n",
       "      <td>1110</td>\n",
       "      <td>orange juice</td>\n",
       "      <td>773</td>\n",
       "    </tr>\n",
       "    <tr>\n",
       "      <td>601</td>\n",
       "      <td>egg yolks</td>\n",
       "      <td>740</td>\n",
       "    </tr>\n",
       "    <tr>\n",
       "      <td>1446</td>\n",
       "      <td>rosemary</td>\n",
       "      <td>738</td>\n",
       "    </tr>\n",
       "    <tr>\n",
       "      <td>1000</td>\n",
       "      <td>mayonnaise</td>\n",
       "      <td>735</td>\n",
       "    </tr>\n",
       "    <tr>\n",
       "      <td>1120</td>\n",
       "      <td>oregano</td>\n",
       "      <td>731</td>\n",
       "    </tr>\n",
       "    <tr>\n",
       "      <td>906</td>\n",
       "      <td>lemon</td>\n",
       "      <td>718</td>\n",
       "    </tr>\n",
       "    <tr>\n",
       "      <td>1807</td>\n",
       "      <td>vanilla</td>\n",
       "      <td>709</td>\n",
       "    </tr>\n",
       "    <tr>\n",
       "      <td>21</td>\n",
       "      <td>almonds</td>\n",
       "      <td>701</td>\n",
       "    </tr>\n",
       "    <tr>\n",
       "      <td>911</td>\n",
       "      <td>lemon peel</td>\n",
       "      <td>695</td>\n",
       "    </tr>\n",
       "  </tbody>\n",
       "</table>\n",
       "</div>"
      ],
      "text/plain": [
       "               Unique  Counts\n",
       "1661            sugar    8086\n",
       "1091        olive oil    7176\n",
       "207            butter    6545\n",
       "1490             salt    6510\n",
       "1210           pepper    4483\n",
       "1862            water    3916\n",
       "1095            onion    3858\n",
       "696     garlic cloves    3379\n",
       "668             flour    3362\n",
       "527             cream    3358\n",
       "910       lemon juice    3187\n",
       "872       kosher salt    3012\n",
       "0             UNKNOWN    2957\n",
       "691            garlic    2779\n",
       "1837    vegetable oil    2733\n",
       "605              eggs    2401\n",
       "1102           onions    1937\n",
       "712            ginger    1808\n",
       "1152          parsley    1787\n",
       "1014             milk    1699\n",
       "332     chicken broth    1632\n",
       "1890             wine    1601\n",
       "427          cinnamon    1502\n",
       "930        lime juice    1419\n",
       "1748         tomatoes    1342\n",
       "1811  vanilla extract    1257\n",
       "1726            thyme    1228\n",
       "421          cilantro    1167\n",
       "1891     wine vinegar    1155\n",
       "1344         potatoes    1051\n",
       "1345           powder    1018\n",
       "138       bell pepper    1005\n",
       "595               egg     998\n",
       "266           carrots     991\n",
       "1607        soy sauce     957\n",
       "566     dijon mustard     950\n",
       "811             honey     936\n",
       "394         chocolate     915\n",
       "1537         shallots     894\n",
       "543             cumin     893\n",
       "283            celery     843\n",
       "1110     orange juice     773\n",
       "601         egg yolks     740\n",
       "1446         rosemary     738\n",
       "1000       mayonnaise     735\n",
       "1120          oregano     731\n",
       "906             lemon     718\n",
       "1807          vanilla     709\n",
       "21            almonds     701\n",
       "911        lemon peel     695"
      ]
     },
     "execution_count": 21,
     "metadata": {},
     "output_type": "execute_result"
    }
   ],
   "source": [
    "unique_df.head(50)"
   ]
  },
  {
   "cell_type": "code",
   "execution_count": 22,
   "metadata": {},
   "outputs": [
    {
     "data": {
      "text/plain": [
       "array(['sugar', 'olive oil', 'butter', 'salt', 'pepper', 'water', 'onion',\n",
       "       'garlic cloves', 'flour', 'cream', 'lemon juice', 'kosher salt',\n",
       "       'UNKNOWN', 'garlic', 'vegetable oil', 'eggs', 'onions', 'ginger',\n",
       "       'parsley', 'milk', 'chicken broth', 'wine', 'cinnamon',\n",
       "       'lime juice', 'tomatoes', 'vanilla extract', 'thyme', 'cilantro',\n",
       "       'wine vinegar', 'potatoes', 'powder', 'bell pepper', 'egg',\n",
       "       'carrots', 'soy sauce', 'dijon mustard', 'honey', 'chocolate',\n",
       "       'shallots', 'cumin', 'celery', 'orange juice', 'egg yolks',\n",
       "       'rosemary', 'mayonnaise', 'oregano', 'lemon', 'vanilla', 'almonds',\n",
       "       'lemon peel', 'chives', 'shallot', 'yogurt', 'nutmeg',\n",
       "       'parmesan cheese', 'scallions', 'basil', 'parsley leaves',\n",
       "       'cornstarch', 'bacon', 'lemon zest', 'peppercorns', 'soda',\n",
       "       'balsamic vinegar', 'cloves', 'pepper flakes', 'jalapeno',\n",
       "       'paprika', 'shrimp', 'granulated sugar', 'mushrooms', 'beans',\n",
       "       'bay leaf', 'plum tomatoes', 'orange peel', 'cayenne pepper',\n",
       "       'sesame oil', 'mint', 'cream cheese', 'buttermilk', 'walnuts',\n",
       "       'carrot', 'coriander', 'cheese', 'bell peppers', 'basil leaves',\n",
       "       'mint leaves', 'bay leaves', 'raisins', 'chicken breast', 'sauce',\n",
       "       'rice vinegar', 'dill', 'strawberries', 'apples', 'rum',\n",
       "       'cornmeal', 'egg whites', 'cucumber', 'rice'], dtype='<U16')"
      ]
     },
     "execution_count": 22,
     "metadata": {},
     "output_type": "execute_result"
    }
   ],
   "source": [
    "n_most_frequent = 100\n",
    "most_frequent_ingredients = unique_df['Unique'][:n_most_frequent].values.astype(str)\n",
    "most_frequent_ingredients"
   ]
  },
  {
   "cell_type": "markdown",
   "metadata": {},
   "source": [
    "### Find and delete UNKNOWN ingredient"
   ]
  },
  {
   "cell_type": "markdown",
   "metadata": {},
   "source": [
    "The same (or very similar) applies for all other 2957 UNKNOWN entries. UNKNOWN sample:"
   ]
  },
  {
   "cell_type": "code",
   "execution_count": 18,
   "metadata": {},
   "outputs": [
    {
     "name": "stderr",
     "output_type": "stream",
     "text": [
      "\r",
      "  0%|                                                                                           | 0/50 [00:00<?, ?it/s]"
     ]
    },
    {
     "name": "stdout",
     "output_type": "stream",
     "text": [
      "Recipe: 9, Row: 15, \n",
      " full name: Equipment: 4 (16-ounce) wide jars or containers with lids, \n",
      " individually: UNKNOWN \n",
      "\n",
      "Recipe: 17, Row: 14, \n",
      " full name: Special equipment: a wide 5- to 6-qt heavy pot with a tight-fitting lid, \n",
      " individually: UNKNOWN \n",
      "\n",
      "Recipe: 20, Row: 11, \n",
      " full name: *Available at some Asian markets and by mail order from Ethnic Grocer (800-523-1961)., \n",
      " individually: UNKNOWN \n",
      "\n",
      "Recipe: 22, Row: 0, \n",
      " full name: 4 15x15-inch squares parchment paper, \n",
      " individually: UNKNOWN \n",
      "\n",
      "Recipe: 31, Row: 3, \n",
      " full name: a 4- to 6-cup jar with a tight-fitting lid, \n",
      " individually: UNKNOWN \n",
      "\n",
      "Recipe: 43, Row: 8, \n",
      " full name: *available at specialty produce markets, \n",
      " individually: UNKNOWN \n",
      "\n"
     ]
    },
    {
     "name": "stderr",
     "output_type": "stream",
     "text": [
      "100%|████████████████████████████████████████████████████████████████████████████████| 50/50 [00:00<00:00, 1786.80it/s]\n"
     ]
    }
   ],
   "source": [
    "for i, ingredient in enumerate(tqdm(df['ingredients_individually'][:50])):\n",
    "    for j, row_ingredient in enumerate(ingredient):\n",
    "        if 'UNKNOWN' in row_ingredient:           \n",
    "            print(\"Recipe: {}, Row: {}, \\n full name: {}, \\n individually: {} \\n\"\n",
    "                  .format(i, j, df['ingredients'][i][j], df['ingredients_individually'][i][j]))"
   ]
  },
  {
   "cell_type": "code",
   "execution_count": 19,
   "metadata": {},
   "outputs": [
    {
     "data": {
      "text/plain": [
       "['coconut milk', 'yogurt', 'mint leaves', 'coconut', 'UNKNOWN', 'UNKNOWN']"
      ]
     },
     "execution_count": 19,
     "metadata": {},
     "output_type": "execute_result"
    }
   ],
   "source": [
    "df['ingredients_individually'][372]"
   ]
  },
  {
   "cell_type": "code",
   "execution_count": 29,
   "metadata": {},
   "outputs": [
    {
     "name": "stderr",
     "output_type": "stream",
     "text": [
      "100%|████████████████████████████████████████████████████████████████████████| 20111/20111 [00:00<00:00, 268296.61it/s]\n"
     ]
    }
   ],
   "source": [
    "for i, ingredient in enumerate(tqdm(df['ingredients_individually'])):\n",
    "    for j, row_ingredient in enumerate(ingredient):\n",
    "        if 'UNKNOWN' in row_ingredient:\n",
    "            del df['ingredients_individually'][i][j] #delete row in ingredient, where was no match\n",
    "            #print(\"Recipe: {}, Row: {}, \\n full name: {}, \\n individually: {} \\n\"\n",
    "            #      .format(i, j, df['ingredients'][i][j], df['ingredients_individually'][i][j]))"
   ]
  },
  {
   "cell_type": "code",
   "execution_count": 30,
   "metadata": {},
   "outputs": [
    {
     "data": {
      "text/plain": [
       "['coconut milk', 'yogurt', 'mint leaves', 'coconut']"
      ]
     },
     "execution_count": 30,
     "metadata": {},
     "output_type": "execute_result"
    }
   ],
   "source": [
    "df['ingredients_individually'][372]"
   ]
  },
  {
   "cell_type": "code",
   "execution_count": 31,
   "metadata": {},
   "outputs": [
    {
     "data": {
      "text/plain": [
       "['1 pound fresh linguine',\n",
       " '2 tablespoons olive oil',\n",
       " '10 tablespoons (1 1/4 sticks) butter, divided',\n",
       " '1/2 cup all purpose flour',\n",
       " '4 cups warm milk',\n",
       " 'Dash of ground nutmeg',\n",
       " '1 teaspoon white truffle powder* or truffle flour,* or truffle oil to taste',\n",
       " '*Available at specialty foods stores and Italian markets, and online from buonitalia.com.',\n",
       " '**Available in the Asian foods section of some supermarkets and at Asian markets.',\n",
       " '1/2 cup panko (Japanese breadcrumbs)**',\n",
       " '*Available at specialty foods stores and Italian markets, and online from buonitalia.com.',\n",
       " '**Available in the Asian foods section of some supermarkets and at Asian markets.']"
      ]
     },
     "execution_count": 31,
     "metadata": {},
     "output_type": "execute_result"
    }
   ],
   "source": [
    "df['ingredients'][19924]"
   ]
  },
  {
   "cell_type": "code",
   "execution_count": 32,
   "metadata": {},
   "outputs": [
    {
     "data": {
      "text/plain": [
       "['linguine',\n",
       " 'olive oil',\n",
       " 'butter',\n",
       " 'flour',\n",
       " 'milk',\n",
       " 'nutmeg',\n",
       " 'truffle oil',\n",
       " 'breadcrumbs']"
      ]
     },
     "execution_count": 32,
     "metadata": {},
     "output_type": "execute_result"
    }
   ],
   "source": [
    "df['ingredients_individually'][19924]"
   ]
  },
  {
   "cell_type": "code",
   "execution_count": 33,
   "metadata": {},
   "outputs": [
    {
     "name": "stderr",
     "output_type": "stream",
     "text": [
      "100%|████████████████████████████████████████████████████████████████████████| 20111/20111 [00:00<00:00, 170428.37it/s]\n"
     ]
    }
   ],
   "source": [
    "for i, ingredient in enumerate(tqdm(df['ingredients_individually'])):\n",
    "    for j, row_ingredient in enumerate(ingredient):\n",
    "        if 'UNKNOWN' in row_ingredient:           \n",
    "            print(\"Recipe: {}, Row: {}, \\n full name: {}, \\n individually: {} \\n\"\n",
    "                  .format(i, j, df['ingredients'][i][j], df['ingredients_individually'][i][j]))\n",
    "            #there is no UNKNOWN in the df anymore"
   ]
  },
  {
   "cell_type": "markdown",
   "metadata": {},
   "source": [
    "### Final checks"
   ]
  },
  {
   "cell_type": "code",
   "execution_count": 34,
   "metadata": {},
   "outputs": [
    {
     "name": "stdout",
     "output_type": "stream",
     "text": [
      "['1 large navel orange with skin', '7 cups water, divided', '1/2 cup sugar', '2 cinnamon sticks, divided', '1/4 cup (packed) golden brown sugar', '1 tablespoon dark rum', '2 teaspoons apple cider vinegar', '1/8 teaspoon ground allspice', '1/2 cup fresh or frozen cranberries'] \n",
      "\n",
      "['orange', 'water', 'sugar', 'cinnamon sticks', 'sugar', 'rum', 'apple cider vinegar', 'allspice', 'cranberries']\n"
     ]
    }
   ],
   "source": [
    "import random\n",
    "#i = random.randint(0, len(df))\n",
    "i = random.randint(0, len(ingredients))\n",
    "\n",
    "print(df['ingredients'][i], '\\n')\n",
    "print(df['ingredients_individually'][i])"
   ]
  },
  {
   "cell_type": "code",
   "execution_count": 35,
   "metadata": {},
   "outputs": [
    {
     "name": "stdout",
     "output_type": "stream",
     "text": [
      "['1/2 cup mayonnaise', '1 tablespoon finely chopped canned chipotle chiles in adobo plus 2 teaspoons adobo sauce (from can)', '1/4 teaspoon fresh lemon juice', '1/2 lb sea scallops, tough muscle removed from side of each if necessary', '1 large egg white', '1 tablespoon chopped shallot', '1/2 teaspoon salt', '1/8 teaspoon black pepper', '1/3 cup chilled heavy cream', '1/2 lb shrimp in shell, peeled, deveined, and cut into 1/4-inch pieces', '1 cup plain fine dry bread crumbs', 'About 1/2 cup vegetable oil', 'Accompaniment: lemon wedges'] \n",
      "\n",
      "['mayonnaise', 'chipotle chiles', 'lemon juice', 'scallops', 'egg', 'shallot', 'salt', 'pepper', 'cream', 'shrimp', 'bread crumbs', 'vegetable oil', 'lemon']\n"
     ]
    }
   ],
   "source": [
    "import random\n",
    "i = random.randint(0, len(df))\n",
    "i = random.randint(0, len(ingredients))\n",
    "\n",
    "print(df['ingredients'][i], '\\n')\n",
    "print(df['ingredients_individually'][i])"
   ]
  },
  {
   "cell_type": "code",
   "execution_count": 36,
   "metadata": {},
   "outputs": [
    {
     "name": "stdout",
     "output_type": "stream",
     "text": [
      "['3 tablespoons soy sauce', '2 tablespoons seasoned rice vinegar', '1 1/2 tablespoons medium-dry Sherry', '3/4 pound flank steak', '1 large garlic clove, minced', '2 teaspoons grated peeled fresh gingerroot', '1/2 pound mushrooms', '3 scallions', '1 small cucumber', '2 tablespoons vegetable oil', '1 cup fresh bean sprouts', '2 tablespoons water', '2 cups packed spinach leaves, washed well and spun dry'] \n",
      "\n",
      "['soy sauce', 'rice vinegar', 'sherry', 'flank steak', 'garlic', 'gingerroot', 'mushrooms', 'scallions', 'cucumber', 'vegetable oil', 'sprouts', 'water', 'spinach leaves']\n"
     ]
    }
   ],
   "source": [
    "import random\n",
    "#i = random.randint(0, len(df))\n",
    "i = random.randint(0, len(ingredients))\n",
    "\n",
    "print(df['ingredients'][i], '\\n')\n",
    "print(df['ingredients_individually'][i])"
   ]
  },
  {
   "cell_type": "markdown",
   "metadata": {},
   "source": [
    "## Save dataframe with column of found ingredients"
   ]
  },
  {
   "cell_type": "code",
   "execution_count": 38,
   "metadata": {},
   "outputs": [],
   "source": [
    "recipes_filename_parsed_ingredients = \"../../data/full_format_recipes_parsed_ingredients.json\"\n",
    "df.to_json(recipes_filename_parsed_ingredients)"
   ]
  }
 ],
 "metadata": {
  "kernelspec": {
   "display_name": "Python 3",
   "language": "python",
   "name": "python3"
  },
  "language_info": {
   "codemirror_mode": {
    "name": "ipython",
    "version": 3
   },
   "file_extension": ".py",
   "mimetype": "text/x-python",
   "name": "python",
   "nbconvert_exporter": "python",
   "pygments_lexer": "ipython3",
   "version": "3.7.4"
  }
 },
 "nbformat": 4,
 "nbformat_minor": 2
}
