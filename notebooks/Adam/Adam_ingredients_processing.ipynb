{
 "cells": [
  {
   "cell_type": "markdown",
   "metadata": {},
   "source": [
    "# Processing of individial ingredients\n",
    "\n",
    "This notebook is concerned with processing of df['ingredients'] column obtained from notebook Adam_ingredients_v2. The goal is to have three columns, together with df['ingredients'] second one df['ingredients_preprocessed'] with logical steps explained in this notebook and third one df['ingredients_to_cnn'] which would obtain only the ingredients, which would be fed into the CNN."
   ]
  },
  {
   "cell_type": "code",
   "execution_count": 1,
   "metadata": {},
   "outputs": [],
   "source": [
    "import pandas as pd\n",
    "import json\n",
    "import numpy as np\n",
    "import csv\n",
    "\n",
    "from tqdm import tqdm\n",
    "import inflect\n",
    "import copy\n",
    "\n",
    "recipes_filename_parsed_ingredients = \"../../data/full_format_recipes_parsed_ingredients.json\""
   ]
  },
  {
   "cell_type": "code",
   "execution_count": 2,
   "metadata": {},
   "outputs": [],
   "source": [
    "%load_ext autoreload\n",
    "%autoreload 2"
   ]
  },
  {
   "cell_type": "code",
   "execution_count": 3,
   "metadata": {},
   "outputs": [],
   "source": [
    "p = inflect.engine()"
   ]
  },
  {
   "cell_type": "code",
   "execution_count": 4,
   "metadata": {},
   "outputs": [],
   "source": [
    "df = pd.read_json(recipes_filename_parsed_ingredients)"
   ]
  },
  {
   "cell_type": "markdown",
   "metadata": {},
   "source": [
    "## Ingredients preformatted"
   ]
  },
  {
   "cell_type": "markdown",
   "metadata": {},
   "source": [
    "- Make plural singular. \n",
    "\n",
    "- Make 'olive oil' 'oil' again.\n",
    "\n",
    "- There are more ingredients of the same name in the recipe\n",
    "\n",
    "- Thresholding"
   ]
  },
  {
   "cell_type": "markdown",
   "metadata": {},
   "source": [
    "### Plural "
   ]
  },
  {
   "cell_type": "markdown",
   "metadata": {},
   "source": [
    "Containing plural: e. g. recipe no. 557."
   ]
  },
  {
   "cell_type": "code",
   "execution_count": 5,
   "metadata": {},
   "outputs": [
    {
     "name": "stdout",
     "output_type": "stream",
     "text": [
      "['1 cup frozen baby peas (not thawed)', '1/2 cup heavy cream', '1/4 teaspoon dried hot red-pepper flakes', '1 garlic clove, smashed', '3 cups packed baby spinach (3 ounces)', '1 teaspoon grated lemon zest', '1 1/2 teaspoons fresh lemon juice', '1 pound dried gnocchi (preferably De Cecco)', '1/4 cup grated parmesan'] \n",
      "\n",
      "['peas', 'cream', 'pepper flakes', 'garlic', 'spinach', 'lemon zest', 'lemon juice', 'gnocchi', 'parmesan']\n"
     ]
    }
   ],
   "source": [
    "print(df['ingredients'][557], '\\n')\n",
    "print(df['ingredients_individually'][557])"
   ]
  },
  {
   "cell_type": "code",
   "execution_count": 6,
   "metadata": {},
   "outputs": [
    {
     "name": "stderr",
     "output_type": "stream",
     "text": [
      "100%|██████████████████████████████████████████████████████████████████████████| 20111/20111 [00:16<00:00, 1201.54it/s]\n"
     ]
    }
   ],
   "source": [
    "df['ingredients_preformatted'] = [x[:] for x in df['ingredients_individually']] #new df  column\n",
    "for i, ingredient in enumerate(tqdm(df['ingredients_preformatted'])):\n",
    "    for j, row_ingredient in enumerate(ingredient):\n",
    "        if p.singular_noun(row_ingredient) is not False: #therefore, ingredient is plural\n",
    "            df['ingredients_preformatted'][i][j] = p.singular_noun(row_ingredient)"
   ]
  },
  {
   "cell_type": "code",
   "execution_count": 7,
   "metadata": {},
   "outputs": [
    {
     "name": "stdout",
     "output_type": "stream",
     "text": [
      "['peas', 'cream', 'pepper flakes', 'garlic', 'spinach', 'lemon zest', 'lemon juice', 'gnocchi', 'parmesan'] \n",
      "\n",
      "['pea', 'cream', 'pepper flake', 'garlic', 'spinach', 'lemon zest', 'lemon juice', 'gnocchi', 'parmesan']\n"
     ]
    }
   ],
   "source": [
    "print(df['ingredients_individually'][557], '\\n')\n",
    "print(df['ingredients_preformatted'][557])"
   ]
  },
  {
   "cell_type": "markdown",
   "metadata": {},
   "source": [
    "### Make 'olive oil' 'oil' again"
   ]
  },
  {
   "cell_type": "markdown",
   "metadata": {},
   "source": [
    "Unfortunately manual, look into manual_rename.py. Usually I rename e. g. all the oils into 'oil' etc."
   ]
  },
  {
   "cell_type": "code",
   "execution_count": 8,
   "metadata": {},
   "outputs": [
    {
     "name": "stderr",
     "output_type": "stream",
     "text": [
      "100%|██████████████████████████████████████████████████████████████████████████| 20111/20111 [00:03<00:00, 6070.15it/s]\n"
     ]
    }
   ],
   "source": [
    "from manual_rename import rename\n",
    "df = rename(df)"
   ]
  },
  {
   "cell_type": "markdown",
   "metadata": {},
   "source": [
    "### There are more ingredients of the same name in the recipe + plural to singular duplicities + renaming duplicities\n",
    "\n",
    "- If there were e. g. olives and olive in the recipe, the plural to singular change kept both (olive and olive).\n",
    "\n",
    "- duplicity in the recipes themselves\n",
    "\n",
    "- duplicity from renaming ('olive oil' to 'oil' AND 'oil')\n",
    "\n",
    "All this can be seen in the recipe no. 135."
   ]
  },
  {
   "cell_type": "code",
   "execution_count": 9,
   "metadata": {},
   "outputs": [
    {
     "name": "stderr",
     "output_type": "stream",
     "text": [
      "  0%|                                                                                        | 0/20111 [00:00<?, ?it/s]c:\\users\\admin\\.conda\\envs\\test_venv\\lib\\site-packages\\ipykernel_launcher.py:2: SettingWithCopyWarning: \n",
      "A value is trying to be set on a copy of a slice from a DataFrame\n",
      "\n",
      "See the caveats in the documentation: http://pandas.pydata.org/pandas-docs/stable/user_guide/indexing.html#returning-a-view-versus-a-copy\n",
      "  \n",
      "100%|██████████████████████████████████████████████████████████████████████████| 20111/20111 [00:08<00:00, 2358.34it/s]\n"
     ]
    }
   ],
   "source": [
    "for i in tqdm(range(len(df))):\n",
    "    df['ingredients_preformatted'][i] = list(set(df['ingredients_preformatted'][i]))"
   ]
  },
  {
   "cell_type": "markdown",
   "metadata": {},
   "source": [
    "Recipe no 135.: all the plural (*blueberries*), duplicity (two times *flour*) and renaming (*granulated sugar* and *sugar*) in the recipe."
   ]
  },
  {
   "cell_type": "code",
   "execution_count": 10,
   "metadata": {},
   "outputs": [
    {
     "name": "stdout",
     "output_type": "stream",
     "text": [
      "16 ['flour', 'sugar', 'granulated sugar', 'cinnamon', 'butter', 'flour', 'powder', 'soda', 'salt', 'cream', 'vanilla extract', 'butter', 'granulated sugar', 'egg', 'blueberries', 'cream'] \n",
      "\n",
      "11 ['sugar', 'cream', 'egg', 'butter', 'blueberry', 'salt', 'cinnamon', 'flour', 'vanilla', 'powder', 'soda'] \n",
      "\n"
     ]
    }
   ],
   "source": [
    "print(len(df['ingredients_individually'][135]), df['ingredients_individually'][135], '\\n')\n",
    "print(len(df['ingredients_preformatted'][135]), df['ingredients_preformatted'][135], '\\n')"
   ]
  },
  {
   "cell_type": "markdown",
   "metadata": {},
   "source": [
    "### Thresholding"
   ]
  },
  {
   "cell_type": "markdown",
   "metadata": {},
   "source": [
    "All the recipes with occurence lower than the threshold *t* will be dismissed, achieved by intersection with thresholding seznam.\n",
    "\n",
    "I set the threshold arbitrarily at the value 10, can be changed. This corresponds to 689 ingredients."
   ]
  },
  {
   "cell_type": "code",
   "execution_count": 14,
   "metadata": {},
   "outputs": [],
   "source": [
    "with open('thresholding_list.csv', 'r') as f:\n",
    "    reader = csv.reader(f)\n",
    "    thresholding_list = list(reader)\n",
    "thresholding_list = [''.join(x) for x in thresholding_list] #make list of strings from list of lists\n",
    "thresholding_list = thresholding_list[1:] #drop column name"
   ]
  },
  {
   "cell_type": "code",
   "execution_count": 15,
   "metadata": {},
   "outputs": [],
   "source": [
    "thresholding_list = thresholding_list[:689]"
   ]
  },
  {
   "cell_type": "code",
   "execution_count": 17,
   "metadata": {},
   "outputs": [
    {
     "data": {
      "text/plain": [
       "689"
      ]
     },
     "execution_count": 17,
     "metadata": {},
     "output_type": "execute_result"
    }
   ],
   "source": [
    "len(thresholding_list)"
   ]
  },
  {
   "cell_type": "code",
   "execution_count": 18,
   "metadata": {},
   "outputs": [
    {
     "name": "stderr",
     "output_type": "stream",
     "text": [
      "  0%|                                                                                        | 0/20111 [00:00<?, ?it/s]c:\\users\\admin\\.conda\\envs\\test_venv\\lib\\site-packages\\ipykernel_launcher.py:2: SettingWithCopyWarning: \n",
      "A value is trying to be set on a copy of a slice from a DataFrame\n",
      "\n",
      "See the caveats in the documentation: http://pandas.pydata.org/pandas-docs/stable/user_guide/indexing.html#returning-a-view-versus-a-copy\n",
      "  \n",
      "100%|██████████████████████████████████████████████████████████████████████████| 20111/20111 [00:08<00:00, 2264.87it/s]\n"
     ]
    }
   ],
   "source": [
    "for j in tqdm(range(len(df['ingredients_preformatted']))):\n",
    "    df['ingredients_preformatted'][j] = [x for x in df['ingredients_preformatted'][j] if x in thresholding_list]"
   ]
  },
  {
   "cell_type": "markdown",
   "metadata": {},
   "source": [
    "## Unique ingredients left"
   ]
  },
  {
   "cell_type": "code",
   "execution_count": 19,
   "metadata": {},
   "outputs": [
    {
     "name": "stderr",
     "output_type": "stream",
     "text": [
      "100%|███████████████████████████████████████████████████████████████████████████| 20111/20111 [00:35<00:00, 560.84it/s]\n"
     ]
    }
   ],
   "source": [
    "all_ingredients_list = []\n",
    "for idx in tqdm(range(len(df['ingredients_preformatted']))):\n",
    "    all_ingredients_list = all_ingredients_list + df['ingredients_preformatted'][idx] \n",
    "    #all ingredients from seznam used in all recipes\n",
    "all_ingredients = np.array(all_ingredients_list)"
   ]
  },
  {
   "cell_type": "code",
   "execution_count": 20,
   "metadata": {},
   "outputs": [
    {
     "name": "stdout",
     "output_type": "stream",
     "text": [
      "Number of unique (both singular and plural) ingredients: 689\n"
     ]
    },
    {
     "data": {
      "text/html": [
       "<div>\n",
       "<style scoped>\n",
       "    .dataframe tbody tr th:only-of-type {\n",
       "        vertical-align: middle;\n",
       "    }\n",
       "\n",
       "    .dataframe tbody tr th {\n",
       "        vertical-align: top;\n",
       "    }\n",
       "\n",
       "    .dataframe thead th {\n",
       "        text-align: right;\n",
       "    }\n",
       "</style>\n",
       "<table border=\"1\" class=\"dataframe\">\n",
       "  <thead>\n",
       "    <tr style=\"text-align: right;\">\n",
       "      <th></th>\n",
       "      <th>Unique</th>\n",
       "      <th>Counts</th>\n",
       "    </tr>\n",
       "  </thead>\n",
       "  <tbody>\n",
       "    <tr>\n",
       "      <td>383</td>\n",
       "      <td>oil</td>\n",
       "      <td>9671</td>\n",
       "    </tr>\n",
       "    <tr>\n",
       "      <td>527</td>\n",
       "      <td>salt</td>\n",
       "      <td>8553</td>\n",
       "    </tr>\n",
       "    <tr>\n",
       "      <td>601</td>\n",
       "      <td>sugar</td>\n",
       "      <td>6587</td>\n",
       "    </tr>\n",
       "    <tr>\n",
       "      <td>246</td>\n",
       "      <td>garlic</td>\n",
       "      <td>6063</td>\n",
       "    </tr>\n",
       "    <tr>\n",
       "      <td>72</td>\n",
       "      <td>butter</td>\n",
       "      <td>5809</td>\n",
       "    </tr>\n",
       "  </tbody>\n",
       "</table>\n",
       "</div>"
      ],
      "text/plain": [
       "     Unique  Counts\n",
       "383     oil    9671\n",
       "527    salt    8553\n",
       "601   sugar    6587\n",
       "246  garlic    6063\n",
       "72   butter    5809"
      ]
     },
     "execution_count": 20,
     "metadata": {},
     "output_type": "execute_result"
    }
   ],
   "source": [
    "unique, counts = np.unique(all_ingredients, return_counts=True)\n",
    "unique_df = pd.DataFrame(data = zip(unique, counts), columns = ['Unique', 'Counts'])\n",
    "unique_df = unique_df.sort_values(by = 'Counts', ascending = False)\n",
    "print(\"Number of unique (both singular and plural) ingredients:\", len(unique))\n",
    "\n",
    "unique_df.head()"
   ]
  },
  {
   "cell_type": "code",
   "execution_count": 21,
   "metadata": {},
   "outputs": [],
   "source": [
    "unique_df.to_csv(\"unique_ingredients_final.csv\")"
   ]
  },
  {
   "cell_type": "markdown",
   "metadata": {},
   "source": [
    "### Example\n",
    "Whole processing example from *ingredients* to *ingredients_individually* to *ingredients_preformatted* can be seen from e. g. recipe no. 4028."
   ]
  },
  {
   "cell_type": "code",
   "execution_count": 22,
   "metadata": {},
   "outputs": [
    {
     "name": "stdout",
     "output_type": "stream",
     "text": [
      "['1 cup pitted brine-cured green olives', '1 tablespoon olive oil', '1 large garlic clove, peeled', '1 1/2 teaspoons chopped fresh rosemary', '1/2 teaspoon finely grated orange peel', '6 boneless chicken breast halves with skin', '6 tablespoons orange juice', '2 tablespoons chopped fresh rosemary', '4 garlic cloves, pressed', '1 tablespoon finely grated orange peel', '3/4 cup olive oil', '1/2 cup chopped pitted brine-cured green olives', 'Nonstick vegetable oil spray', '2 large unpeeled oranges, each cut into 6 wedges'] \n",
      "\n",
      "14 ['olives', 'olive oil', 'garlic', 'rosemary', 'orange peel', 'chicken breast', 'orange juice', 'rosemary', 'garlic cloves', 'orange peel', 'olive oil', 'olives', 'vegetable oil', 'oranges'] \n",
      "\n",
      "6 ['oil', 'garlic', 'olive', 'chicken', 'rosemary', 'orange']\n"
     ]
    }
   ],
   "source": [
    "print(df['ingredients'][4028], '\\n')\n",
    "print(len(df['ingredients_individually'][4028]), df['ingredients_individually'][4028], '\\n')\n",
    "print(len(df['ingredients_preformatted'][4028]), df['ingredients_preformatted'][4028])"
   ]
  },
  {
   "cell_type": "markdown",
   "metadata": {},
   "source": [
    "## Ingredients to feed CNN "
   ]
  },
  {
   "cell_type": "markdown",
   "metadata": {},
   "source": [
    "Make intersection of preformatted ingredients and handpicked ingredients to feed CNN."
   ]
  },
  {
   "cell_type": "code",
   "execution_count": 23,
   "metadata": {},
   "outputs": [],
   "source": [
    "with open('to_cnn_list.csv', 'r') as f:\n",
    "    reader = csv.reader(f)\n",
    "    to_cnn_list = list(reader)\n",
    "to_cnn_list = [''.join(x) for x in to_cnn_list] #make list of strings from list of lists\n",
    "to_cnn_list = to_cnn_list[1:] #drop column name"
   ]
  },
  {
   "cell_type": "code",
   "execution_count": 24,
   "metadata": {},
   "outputs": [
    {
     "name": "stderr",
     "output_type": "stream",
     "text": [
      "  0%|                                                                                        | 0/20111 [00:00<?, ?it/s]c:\\users\\admin\\.conda\\envs\\test_venv\\lib\\site-packages\\ipykernel_launcher.py:4: SettingWithCopyWarning: \n",
      "A value is trying to be set on a copy of a slice from a DataFrame\n",
      "\n",
      "See the caveats in the documentation: http://pandas.pydata.org/pandas-docs/stable/user_guide/indexing.html#returning-a-view-versus-a-copy\n",
      "  after removing the cwd from sys.path.\n",
      "100%|██████████████████████████████████████████████████████████████████████████| 20111/20111 [00:07<00:00, 2832.96it/s]\n"
     ]
    }
   ],
   "source": [
    "df['ingredients_to_cnn'] = [[] for i in range(len(df['ingredients_preformatted']))]\n",
    "\n",
    "for j in tqdm(range(len(df['ingredients_preformatted']))):\n",
    "    df['ingredients_to_cnn'][j] = [x for x in df['ingredients_preformatted'][j] if x in to_cnn_list]"
   ]
  },
  {
   "cell_type": "markdown",
   "metadata": {},
   "source": [
    "## Final checks"
   ]
  },
  {
   "cell_type": "code",
   "execution_count": 25,
   "metadata": {},
   "outputs": [
    {
     "name": "stdout",
     "output_type": "stream",
     "text": [
      "['2 tablespoons unsalted butter', '2 medium onions, very thinly sliced', '4 stalks celery, very thinly sliced', '2 medium carrots, very thinly sliced', '2 dried bay leaves', '1/4 cup roughly chopped fresh flat-leaf parsley leaves and stems', '6 to 8 sprigs fresh thyme', '2 tablespoons black peppercorns', '1 large (6 inches long or more) or 2 small (4 inches long or less) fish heads from cod or haddock, split lengthwise, gills removed, and rinsed clean of any blood', '2 1/2 to 3 pounds fish frames (bones) from sole, flounder, bass, and/or halibut, cut into 2-inch pieces and rinsed clean of any blood', '1/4 cup dry white wine', 'About 2 quarts very hot or boiling water', 'Kosher or sea salt'] \n",
      "\n",
      "['butter', 'onions', 'celery', 'carrots', 'bay leaves', 'parsley leaves', 'thyme', 'peppercorns', 'haddock', 'flounder', 'wine', 'water', 'salt'] \n",
      "\n",
      "['parsley', 'haddock', 'flounder', 'wine', 'onion', 'carrot', 'salt', 'pepper', 'thyme', 'butter', 'water', 'celery', 'bay leaf'] \n",
      "\n",
      "['wine', 'onion', 'carrot', 'butter', 'celery']\n"
     ]
    }
   ],
   "source": [
    "import random\n",
    "i = random.randint(0, len(df))\n",
    "\n",
    "print(df['ingredients'][i], '\\n')\n",
    "print(df['ingredients_individually'][i], '\\n')\n",
    "print(df['ingredients_preformatted'][i], '\\n')\n",
    "print(df['ingredients_to_cnn'][i])"
   ]
  },
  {
   "cell_type": "code",
   "execution_count": 26,
   "metadata": {},
   "outputs": [
    {
     "name": "stdout",
     "output_type": "stream",
     "text": [
      "['1/2 pound fresh tomatillos, husked, rinsed, and quartered', '1 1/2 pounds tomatoes, chopped, divided', '1/2 cup chopped white onion, divided', '1 fresh serrano chile, coarsely chopped, including seeds', '1 garlic clove, quartered', '2 tablespoons red-wine vinegar', '1 cup water', '2 tablespoons olive oil', '1/2 cup chopped cilantro'] \n",
      "\n",
      "['tomatillos', 'tomatoes', 'onion', 'serrano chile', 'garlic', 'wine vinegar', 'water', 'olive oil', 'cilantro'] \n",
      "\n",
      "['tomato', 'oil', 'garlic', 'serrano chile', 'cilantro', 'water', 'wine', 'tomatillo', 'onion'] \n",
      "\n",
      "['tomato', 'oil', 'garlic', 'wine', 'onion']\n"
     ]
    }
   ],
   "source": [
    "import random\n",
    "i = random.randint(0, len(df))\n",
    "\n",
    "print(df['ingredients'][i], '\\n')\n",
    "print(df['ingredients_individually'][i], '\\n')\n",
    "print(df['ingredients_preformatted'][i], '\\n')\n",
    "print(df['ingredients_to_cnn'][i])"
   ]
  },
  {
   "cell_type": "code",
   "execution_count": 27,
   "metadata": {},
   "outputs": [
    {
     "name": "stdout",
     "output_type": "stream",
     "text": [
      "['4 cups chopped cantaloupe', '1 1/3 cups Asti Spumante (Italian sparkling wine) or water', '3/4 cup sugar', '2 tablespoons fresh lemon juice'] \n",
      "\n",
      "['cantaloupe', 'water', 'sugar', 'lemon juice'] \n",
      "\n",
      "['lemon', 'water', 'cantaloupe', 'sugar'] \n",
      "\n",
      "['lemon']\n"
     ]
    }
   ],
   "source": [
    "import random\n",
    "i = random.randint(0, len(df))\n",
    "\n",
    "print(df['ingredients'][i], '\\n')\n",
    "print(df['ingredients_individually'][i], '\\n')\n",
    "print(df['ingredients_preformatted'][i], '\\n')\n",
    "print(df['ingredients_to_cnn'][i])"
   ]
  },
  {
   "cell_type": "markdown",
   "metadata": {},
   "source": [
    "## Save dataframe with three columns of found ingredients"
   ]
  },
  {
   "cell_type": "code",
   "execution_count": 29,
   "metadata": {},
   "outputs": [],
   "source": [
    "recipes_filename_parsed_ingredients_final = \"../../data/full_format_recipes_parsed_ingredients_final.json\"\n",
    "df.to_json(recipes_filename_parsed_ingredients_final)"
   ]
  }
 ],
 "metadata": {
  "kernelspec": {
   "display_name": "Python 3",
   "language": "python",
   "name": "python3"
  },
  "language_info": {
   "codemirror_mode": {
    "name": "ipython",
    "version": 3
   },
   "file_extension": ".py",
   "mimetype": "text/x-python",
   "name": "python",
   "nbconvert_exporter": "python",
   "pygments_lexer": "ipython3",
   "version": "3.7.4"
  }
 },
 "nbformat": 4,
 "nbformat_minor": 2
}
