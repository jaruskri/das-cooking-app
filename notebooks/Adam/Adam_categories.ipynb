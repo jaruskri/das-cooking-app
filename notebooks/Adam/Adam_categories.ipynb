{
 "cells": [
  {
   "cell_type": "markdown",
   "metadata": {},
   "source": [
    "# Categories\n",
    "\n",
    "Finds the unique categories and sorts them, finding the most frequent ones."
   ]
  },
  {
   "cell_type": "code",
   "execution_count": 1,
   "metadata": {},
   "outputs": [],
   "source": [
    "import pandas as pd\n",
    "import json\n",
    "import numpy as np\n",
    "import csv\n",
    "\n",
    "from tqdm import tqdm\n",
    "import inflect\n",
    "\n",
    "recipes_filename_parsed_ingredients_final = \"../../data/full_format_recipes_parsed_ingredients_final.json\""
   ]
  },
  {
   "cell_type": "code",
   "execution_count": 2,
   "metadata": {},
   "outputs": [],
   "source": [
    "df = pd.read_json(recipes_filename_parsed_ingredients_final)"
   ]
  },
  {
   "cell_type": "code",
   "execution_count": 3,
   "metadata": {},
   "outputs": [
    {
     "name": "stderr",
     "output_type": "stream",
     "text": [
      "100%|███████████████████████████████████████████████████████████████████████████| 20111/20111 [00:55<00:00, 360.46it/s]\n"
     ]
    }
   ],
   "source": [
    "all_categories_list = []\n",
    "for idx in tqdm(range(len(df['categories']))):\n",
    "    all_categories_list = all_categories_list + df['categories'][idx] \n",
    "all_categories = np.array(all_categories_list)"
   ]
  },
  {
   "cell_type": "code",
   "execution_count": 4,
   "metadata": {},
   "outputs": [
    {
     "name": "stdout",
     "output_type": "stream",
     "text": [
      "674\n"
     ]
    }
   ],
   "source": [
    "unique, counts = np.unique(all_categories, return_counts=True)\n",
    "unique_df = pd.DataFrame(data = zip(unique, counts), columns = ['Unique', 'Counts'])\n",
    "unique_df = unique_df.sort_values(by = 'Counts', ascending = False)\n",
    "print(len(unique))"
   ]
  },
  {
   "cell_type": "code",
   "execution_count": 5,
   "metadata": {},
   "outputs": [
    {
     "data": {
      "text/html": [
       "<div>\n",
       "<style scoped>\n",
       "    .dataframe tbody tr th:only-of-type {\n",
       "        vertical-align: middle;\n",
       "    }\n",
       "\n",
       "    .dataframe tbody tr th {\n",
       "        vertical-align: top;\n",
       "    }\n",
       "\n",
       "    .dataframe thead th {\n",
       "        text-align: right;\n",
       "    }\n",
       "</style>\n",
       "<table border=\"1\" class=\"dataframe\">\n",
       "  <thead>\n",
       "    <tr style=\"text-align: right;\">\n",
       "      <th></th>\n",
       "      <th>Unique</th>\n",
       "      <th>Counts</th>\n",
       "    </tr>\n",
       "  </thead>\n",
       "  <tbody>\n",
       "    <tr>\n",
       "      <td>57</td>\n",
       "      <td>Bon Appétit</td>\n",
       "      <td>9355</td>\n",
       "    </tr>\n",
       "    <tr>\n",
       "      <td>453</td>\n",
       "      <td>Peanut Free</td>\n",
       "      <td>8390</td>\n",
       "    </tr>\n",
       "    <tr>\n",
       "      <td>574</td>\n",
       "      <td>Soy Free</td>\n",
       "      <td>8088</td>\n",
       "    </tr>\n",
       "    <tr>\n",
       "      <td>624</td>\n",
       "      <td>Tree Nut Free</td>\n",
       "      <td>7044</td>\n",
       "    </tr>\n",
       "    <tr>\n",
       "      <td>636</td>\n",
       "      <td>Vegetarian</td>\n",
       "      <td>6846</td>\n",
       "    </tr>\n",
       "    <tr>\n",
       "      <td>240</td>\n",
       "      <td>Gourmet</td>\n",
       "      <td>6648</td>\n",
       "    </tr>\n",
       "    <tr>\n",
       "      <td>310</td>\n",
       "      <td>Kosher</td>\n",
       "      <td>6175</td>\n",
       "    </tr>\n",
       "    <tr>\n",
       "      <td>462</td>\n",
       "      <td>Pescatarian</td>\n",
       "      <td>6042</td>\n",
       "    </tr>\n",
       "    <tr>\n",
       "      <td>502</td>\n",
       "      <td>Quick &amp; Easy</td>\n",
       "      <td>5372</td>\n",
       "    </tr>\n",
       "    <tr>\n",
       "      <td>654</td>\n",
       "      <td>Wheat/Gluten-Free</td>\n",
       "      <td>4906</td>\n",
       "    </tr>\n",
       "    <tr>\n",
       "      <td>32</td>\n",
       "      <td>Bake</td>\n",
       "      <td>4413</td>\n",
       "    </tr>\n",
       "    <tr>\n",
       "      <td>597</td>\n",
       "      <td>Summer</td>\n",
       "      <td>4151</td>\n",
       "    </tr>\n",
       "    <tr>\n",
       "      <td>176</td>\n",
       "      <td>Dessert</td>\n",
       "      <td>3573</td>\n",
       "    </tr>\n",
       "    <tr>\n",
       "      <td>171</td>\n",
       "      <td>Dairy Free</td>\n",
       "      <td>3206</td>\n",
       "    </tr>\n",
       "    <tr>\n",
       "      <td>560</td>\n",
       "      <td>Side</td>\n",
       "      <td>3151</td>\n",
       "    </tr>\n",
       "    <tr>\n",
       "      <td>405</td>\n",
       "      <td>No Sugar Added</td>\n",
       "      <td>3132</td>\n",
       "    </tr>\n",
       "    <tr>\n",
       "      <td>661</td>\n",
       "      <td>Winter</td>\n",
       "      <td>3099</td>\n",
       "    </tr>\n",
       "    <tr>\n",
       "      <td>204</td>\n",
       "      <td>Fall</td>\n",
       "      <td>3015</td>\n",
       "    </tr>\n",
       "    <tr>\n",
       "      <td>179</td>\n",
       "      <td>Dinner</td>\n",
       "      <td>2705</td>\n",
       "    </tr>\n",
       "    <tr>\n",
       "      <td>594</td>\n",
       "      <td>Sugar Conscious</td>\n",
       "      <td>2466</td>\n",
       "    </tr>\n",
       "  </tbody>\n",
       "</table>\n",
       "</div>"
      ],
      "text/plain": [
       "                Unique  Counts\n",
       "57         Bon Appétit    9355\n",
       "453        Peanut Free    8390\n",
       "574           Soy Free    8088\n",
       "624      Tree Nut Free    7044\n",
       "636         Vegetarian    6846\n",
       "240            Gourmet    6648\n",
       "310             Kosher    6175\n",
       "462        Pescatarian    6042\n",
       "502       Quick & Easy    5372\n",
       "654  Wheat/Gluten-Free    4906\n",
       "32                Bake    4413\n",
       "597             Summer    4151\n",
       "176            Dessert    3573\n",
       "171         Dairy Free    3206\n",
       "560               Side    3151\n",
       "405     No Sugar Added    3132\n",
       "661             Winter    3099\n",
       "204               Fall    3015\n",
       "179             Dinner    2705\n",
       "594    Sugar Conscious    2466"
      ]
     },
     "execution_count": 5,
     "metadata": {},
     "output_type": "execute_result"
    }
   ],
   "source": [
    "unique_df.head(20)"
   ]
  },
  {
   "cell_type": "code",
   "execution_count": 6,
   "metadata": {},
   "outputs": [
    {
     "data": {
      "text/plain": [
       "array(['Bon Appétit', 'Peanut Free', 'Soy Free', 'Tree Nut Free',\n",
       "       'Vegetarian', 'Gourmet', 'Kosher', 'Pescatarian', 'Quick & Easy',\n",
       "       'Wheat/Gluten-Free', 'Bake', 'Summer', 'Dessert', 'Dairy Free',\n",
       "       'Side', 'No Sugar Added', 'Winter', 'Fall', 'Dinner',\n",
       "       'Sugar Conscious', 'Healthy', 'Kidney Friendly', 'Onion', 'Tomato',\n",
       "       'Vegetable', 'Sauté', 'Milk/Cream', 'Fruit', 'Vegan',\n",
       "       'Kid-Friendly', 'Egg', 'Spring', 'Herb', 'Garlic', 'Salad',\n",
       "       'Dairy', 'Thanksgiving', 'Appetizer', 'Lunch', 'Cheese', 'Chicken',\n",
       "       'Roast', 'No-Cook', 'Soup/Stew', 'Cocktail Party', 'Ginger',\n",
       "       'Potato', 'Chill', 'Lemon', 'Grill/Barbecue', 'Drink', 'Sauce',\n",
       "       'Low Cal', 'Christmas', 'High Fiber', 'Food Processor', 'Pasta',\n",
       "       'Backyard BBQ', 'Fish', 'Low Fat', 'Pork', 'Condiment/Spread',\n",
       "       'Nut', 'Leafy Green', 'Party', 'Simmer', 'Citrus', 'Chocolate',\n",
       "       'Mushroom', 'Orange', 'Alcoholic', 'Brunch', 'Beef', 'Paleo',\n",
       "       'Bell Pepper', 'Cake', 'Breakfast', 'Carrot', 'Spice', 'Apple',\n",
       "       'Vinegar', 'Parmesan', 'Mixer', 'Poultry', 'Blender', 'Mint',\n",
       "       'Pepper', 'Cilantro', 'Marinate', 'Mustard', 'Bacon', 'Almond',\n",
       "       'Bean', 'Basil', 'Grill', 'Shellfish', 'Olive', 'Lime', 'Rice',\n",
       "       'Yogurt'], dtype='<U17')"
      ]
     },
     "execution_count": 6,
     "metadata": {},
     "output_type": "execute_result"
    }
   ],
   "source": [
    "n_most_frequent = 100\n",
    "most_frequent_categories = unique_df['Unique'][:n_most_frequent].values.astype(str)\n",
    "most_frequent_categories"
   ]
  },
  {
   "cell_type": "markdown",
   "metadata": {},
   "source": [
    "## Keeps only handpicked categories"
   ]
  },
  {
   "cell_type": "code",
   "execution_count": 7,
   "metadata": {},
   "outputs": [],
   "source": [
    "picked_categories = ['Peanut Free', 'Soy Free', 'Tree Nut Free',\n",
    "       'Vegetarian', 'Gourmet', 'Kosher', 'Pescatarian',\n",
    "       'Wheat/Gluten-Free', 'Dairy Free', 'No Sugar Added']"
   ]
  },
  {
   "cell_type": "code",
   "execution_count": 8,
   "metadata": {},
   "outputs": [
    {
     "name": "stderr",
     "output_type": "stream",
     "text": [
      "  0%|                                                                                        | 0/20111 [00:00<?, ?it/s]c:\\users\\admin\\.conda\\envs\\test_venv\\lib\\site-packages\\ipykernel_launcher.py:3: SettingWithCopyWarning: \n",
      "A value is trying to be set on a copy of a slice from a DataFrame\n",
      "\n",
      "See the caveats in the documentation: http://pandas.pydata.org/pandas-docs/stable/user_guide/indexing.html#returning-a-view-versus-a-copy\n",
      "  This is separate from the ipykernel package so we can avoid doing imports until\n",
      "100%|██████████████████████████████████████████████████████████████████████████| 20111/20111 [00:06<00:00, 3240.15it/s]\n"
     ]
    }
   ],
   "source": [
    "df['categories_preformatted'] = [[] for i in range(len(df['categories']))]\n",
    "for j in tqdm(range(len(df['categories']))):\n",
    "    df['categories_preformatted'][j] = [x for x in df['categories'][j] if x in picked_categories]"
   ]
  },
  {
   "cell_type": "code",
   "execution_count": 9,
   "metadata": {},
   "outputs": [
    {
     "name": "stdout",
     "output_type": "stream",
     "text": [
      "['Fish', 'Olive', 'Tomato', 'Sauté', 'Low Fat', 'Low Cal', 'High Fiber', 'Dinner', 'Healthy', 'Simmer', 'Bon Appétit', 'Pescatarian', 'Dairy Free', 'Peanut Free', 'Tree Nut Free', 'Soy Free', 'Kosher']\n",
      "['Pescatarian', 'Dairy Free', 'Peanut Free', 'Tree Nut Free', 'Soy Free', 'Kosher']\n"
     ]
    }
   ],
   "source": [
    "print(df['categories'][3])\n",
    "print(df['categories_preformatted'][3])"
   ]
  },
  {
   "cell_type": "code",
   "execution_count": 10,
   "metadata": {},
   "outputs": [
    {
     "data": {
      "text/html": [
       "<div>\n",
       "<style scoped>\n",
       "    .dataframe tbody tr th:only-of-type {\n",
       "        vertical-align: middle;\n",
       "    }\n",
       "\n",
       "    .dataframe tbody tr th {\n",
       "        vertical-align: top;\n",
       "    }\n",
       "\n",
       "    .dataframe thead th {\n",
       "        text-align: right;\n",
       "    }\n",
       "</style>\n",
       "<table border=\"1\" class=\"dataframe\">\n",
       "  <thead>\n",
       "    <tr style=\"text-align: right;\">\n",
       "      <th></th>\n",
       "      <th>directions</th>\n",
       "      <th>fat</th>\n",
       "      <th>date</th>\n",
       "      <th>categories</th>\n",
       "      <th>calories</th>\n",
       "      <th>desc</th>\n",
       "      <th>protein</th>\n",
       "      <th>rating</th>\n",
       "      <th>title</th>\n",
       "      <th>ingredients</th>\n",
       "      <th>sodium</th>\n",
       "      <th>ingredients_individually</th>\n",
       "      <th>ingredients_preformatted</th>\n",
       "      <th>ingredients_to_cnn</th>\n",
       "      <th>categories_preformatted</th>\n",
       "    </tr>\n",
       "  </thead>\n",
       "  <tbody>\n",
       "    <tr>\n",
       "      <td>0</td>\n",
       "      <td>[1. Place the stock, lentils, celery, carrot, ...</td>\n",
       "      <td>7.0</td>\n",
       "      <td>2006-09-01 04:00:00</td>\n",
       "      <td>[Sandwich, Bean, Fruit, Tomato, turkey, Vegeta...</td>\n",
       "      <td>426.0</td>\n",
       "      <td>None</td>\n",
       "      <td>30.0</td>\n",
       "      <td>2.500</td>\n",
       "      <td>Lentil, Apple, and Turkey Wrap</td>\n",
       "      <td>[4 cups low-sodium vegetable or chicken stock,...</td>\n",
       "      <td>559.0</td>\n",
       "      <td>[chicken stock, lentils, lentils, celery, carr...</td>\n",
       "      <td>[turkey, tomato, oil, apple, bibb lettuce, chi...</td>\n",
       "      <td>[turkey, tomato, oil, apple, chicken, carrot, ...</td>\n",
       "      <td>[]</td>\n",
       "    </tr>\n",
       "    <tr>\n",
       "      <td>1</td>\n",
       "      <td>[Combine first 9 ingredients in heavy medium s...</td>\n",
       "      <td>23.0</td>\n",
       "      <td>2004-08-20 04:00:00</td>\n",
       "      <td>[Food Processor, Onion, Pork, Bake, Bastille D...</td>\n",
       "      <td>403.0</td>\n",
       "      <td>This uses the same ingredients found in boudin...</td>\n",
       "      <td>18.0</td>\n",
       "      <td>4.375</td>\n",
       "      <td>Boudin Blanc Terrine with Red Onion Confit</td>\n",
       "      <td>[1 1/2 cups whipping cream, 2 medium onions, c...</td>\n",
       "      <td>1439.0</td>\n",
       "      <td>[cream, onions, salt, bay leaves, cloves, garl...</td>\n",
       "      <td>[cream, shallot, clove, salt, parsley, currant...</td>\n",
       "      <td>[cream, shallot, butter, onion, chicken, pork,...</td>\n",
       "      <td>[]</td>\n",
       "    </tr>\n",
       "    <tr>\n",
       "      <td>2</td>\n",
       "      <td>[In a large heavy saucepan cook diced fennel a...</td>\n",
       "      <td>7.0</td>\n",
       "      <td>2004-08-20 04:00:00</td>\n",
       "      <td>[Soup/Stew, Dairy, Potato, Vegetable, Fennel, ...</td>\n",
       "      <td>165.0</td>\n",
       "      <td>None</td>\n",
       "      <td>6.0</td>\n",
       "      <td>3.750</td>\n",
       "      <td>Potato and Fennel Soup Hodge</td>\n",
       "      <td>[1 fennel bulb (sometimes called anise), stalk...</td>\n",
       "      <td>165.0</td>\n",
       "      <td>[fennel bulb, onion, butter, potatoes, chicken...</td>\n",
       "      <td>[fennel, milk, chicken, potato, butter, onion]</td>\n",
       "      <td>[fennel, milk, chicken, potato, butter, onion]</td>\n",
       "      <td>[Gourmet]</td>\n",
       "    </tr>\n",
       "    <tr>\n",
       "      <td>3</td>\n",
       "      <td>[Heat oil in heavy large skillet over medium-h...</td>\n",
       "      <td>NaN</td>\n",
       "      <td>2009-03-27 04:00:00</td>\n",
       "      <td>[Fish, Olive, Tomato, Sauté, Low Fat, Low Cal,...</td>\n",
       "      <td>NaN</td>\n",
       "      <td>The Sicilian-style tomato sauce has tons of Me...</td>\n",
       "      <td>NaN</td>\n",
       "      <td>5.000</td>\n",
       "      <td>Mahi-Mahi in Tomato Olive Sauce</td>\n",
       "      <td>[2 tablespoons extra-virgin olive oil, 1 cup c...</td>\n",
       "      <td>NaN</td>\n",
       "      <td>[olive oil, onion, wine, anchovy paste, tomato...</td>\n",
       "      <td>[oil, tomato, anchovy, fillet, bread, olive, o...</td>\n",
       "      <td>[oil, tomato, orange, wine, onion]</td>\n",
       "      <td>[Pescatarian, Dairy Free, Peanut Free, Tree Nu...</td>\n",
       "    </tr>\n",
       "    <tr>\n",
       "      <td>4</td>\n",
       "      <td>[Preheat oven to 350°F. Lightly grease 8x8x2-i...</td>\n",
       "      <td>32.0</td>\n",
       "      <td>2004-08-20 04:00:00</td>\n",
       "      <td>[Cheese, Dairy, Pasta, Vegetable, Side, Bake, ...</td>\n",
       "      <td>547.0</td>\n",
       "      <td>None</td>\n",
       "      <td>20.0</td>\n",
       "      <td>3.125</td>\n",
       "      <td>Spinach Noodle Casserole</td>\n",
       "      <td>[1 12-ounce package frozen spinach soufflé, th...</td>\n",
       "      <td>452.0</td>\n",
       "      <td>[spinach, egg noodles, cream, pesto sauce, nut...</td>\n",
       "      <td>[cream, cheese, egg noodle, spinach, nutmeg]</td>\n",
       "      <td>[cream, cheese]</td>\n",
       "      <td>[Vegetarian]</td>\n",
       "    </tr>\n",
       "  </tbody>\n",
       "</table>\n",
       "</div>"
      ],
      "text/plain": [
       "                                          directions   fat  \\\n",
       "0  [1. Place the stock, lentils, celery, carrot, ...   7.0   \n",
       "1  [Combine first 9 ingredients in heavy medium s...  23.0   \n",
       "2  [In a large heavy saucepan cook diced fennel a...   7.0   \n",
       "3  [Heat oil in heavy large skillet over medium-h...   NaN   \n",
       "4  [Preheat oven to 350°F. Lightly grease 8x8x2-i...  32.0   \n",
       "\n",
       "                 date                                         categories  \\\n",
       "0 2006-09-01 04:00:00  [Sandwich, Bean, Fruit, Tomato, turkey, Vegeta...   \n",
       "1 2004-08-20 04:00:00  [Food Processor, Onion, Pork, Bake, Bastille D...   \n",
       "2 2004-08-20 04:00:00  [Soup/Stew, Dairy, Potato, Vegetable, Fennel, ...   \n",
       "3 2009-03-27 04:00:00  [Fish, Olive, Tomato, Sauté, Low Fat, Low Cal,...   \n",
       "4 2004-08-20 04:00:00  [Cheese, Dairy, Pasta, Vegetable, Side, Bake, ...   \n",
       "\n",
       "   calories                                               desc  protein  \\\n",
       "0     426.0                                               None     30.0   \n",
       "1     403.0  This uses the same ingredients found in boudin...     18.0   \n",
       "2     165.0                                               None      6.0   \n",
       "3       NaN  The Sicilian-style tomato sauce has tons of Me...      NaN   \n",
       "4     547.0                                               None     20.0   \n",
       "\n",
       "   rating                                        title  \\\n",
       "0   2.500              Lentil, Apple, and Turkey Wrap    \n",
       "1   4.375  Boudin Blanc Terrine with Red Onion Confit    \n",
       "2   3.750                Potato and Fennel Soup Hodge    \n",
       "3   5.000             Mahi-Mahi in Tomato Olive Sauce    \n",
       "4   3.125                    Spinach Noodle Casserole    \n",
       "\n",
       "                                         ingredients  sodium  \\\n",
       "0  [4 cups low-sodium vegetable or chicken stock,...   559.0   \n",
       "1  [1 1/2 cups whipping cream, 2 medium onions, c...  1439.0   \n",
       "2  [1 fennel bulb (sometimes called anise), stalk...   165.0   \n",
       "3  [2 tablespoons extra-virgin olive oil, 1 cup c...     NaN   \n",
       "4  [1 12-ounce package frozen spinach soufflé, th...   452.0   \n",
       "\n",
       "                            ingredients_individually  \\\n",
       "0  [chicken stock, lentils, lentils, celery, carr...   \n",
       "1  [cream, onions, salt, bay leaves, cloves, garl...   \n",
       "2  [fennel bulb, onion, butter, potatoes, chicken...   \n",
       "3  [olive oil, onion, wine, anchovy paste, tomato...   \n",
       "4  [spinach, egg noodles, cream, pesto sauce, nut...   \n",
       "\n",
       "                            ingredients_preformatted  \\\n",
       "0  [turkey, tomato, oil, apple, bibb lettuce, chi...   \n",
       "1  [cream, shallot, clove, salt, parsley, currant...   \n",
       "2     [fennel, milk, chicken, potato, butter, onion]   \n",
       "3  [oil, tomato, anchovy, fillet, bread, olive, o...   \n",
       "4       [cream, cheese, egg noodle, spinach, nutmeg]   \n",
       "\n",
       "                                  ingredients_to_cnn  \\\n",
       "0  [turkey, tomato, oil, apple, chicken, carrot, ...   \n",
       "1  [cream, shallot, butter, onion, chicken, pork,...   \n",
       "2     [fennel, milk, chicken, potato, butter, onion]   \n",
       "3                 [oil, tomato, orange, wine, onion]   \n",
       "4                                    [cream, cheese]   \n",
       "\n",
       "                             categories_preformatted  \n",
       "0                                                 []  \n",
       "1                                                 []  \n",
       "2                                          [Gourmet]  \n",
       "3  [Pescatarian, Dairy Free, Peanut Free, Tree Nu...  \n",
       "4                                       [Vegetarian]  "
      ]
     },
     "execution_count": 10,
     "metadata": {},
     "output_type": "execute_result"
    }
   ],
   "source": [
    "df.head()"
   ]
  },
  {
   "cell_type": "markdown",
   "metadata": {},
   "source": [
    "### Save fully parsed dataframe"
   ]
  },
  {
   "cell_type": "code",
   "execution_count": 11,
   "metadata": {},
   "outputs": [],
   "source": [
    "recipes_filename_parsed = \"../../data/full_format_recipes_parsed.json\"\n",
    "df.to_json(recipes_filename_parsed)"
   ]
  }
 ],
 "metadata": {
  "kernelspec": {
   "display_name": "Python 3",
   "language": "python",
   "name": "python3"
  },
  "language_info": {
   "codemirror_mode": {
    "name": "ipython",
    "version": 3
   },
   "file_extension": ".py",
   "mimetype": "text/x-python",
   "name": "python",
   "nbconvert_exporter": "python",
   "pygments_lexer": "ipython3",
   "version": "3.7.4"
  }
 },
 "nbformat": 4,
 "nbformat_minor": 2
}
