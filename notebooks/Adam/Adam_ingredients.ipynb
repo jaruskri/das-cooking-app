{
 "cells": [
  {
   "cell_type": "markdown",
   "metadata": {},
   "source": [
    "First look at the ingredients in JSON and in .csv ingredient seznam."
   ]
  },
  {
   "cell_type": "code",
   "execution_count": 1,
   "metadata": {},
   "outputs": [],
   "source": [
    "import pandas as pd\n",
    "import json\n",
    "import numpy as np\n",
    "import csv"
   ]
  },
  {
   "cell_type": "code",
   "execution_count": 2,
   "metadata": {},
   "outputs": [],
   "source": [
    "from tqdm import tqdm\n",
    "import inflect"
   ]
  },
  {
   "cell_type": "code",
   "execution_count": 3,
   "metadata": {},
   "outputs": [],
   "source": [
    "recipes_filename = \"../../data/full_format_recipes.json\""
   ]
  },
  {
   "cell_type": "code",
   "execution_count": 4,
   "metadata": {},
   "outputs": [
    {
     "data": {
      "text/plain": [
       "20130"
      ]
     },
     "execution_count": 4,
     "metadata": {},
     "output_type": "execute_result"
    }
   ],
   "source": [
    "df = pd.read_json(recipes_filename)\n",
    "len(df)"
   ]
  },
  {
   "cell_type": "code",
   "execution_count": 5,
   "metadata": {},
   "outputs": [
    {
     "data": {
      "text/html": [
       "<div>\n",
       "<style scoped>\n",
       "    .dataframe tbody tr th:only-of-type {\n",
       "        vertical-align: middle;\n",
       "    }\n",
       "\n",
       "    .dataframe tbody tr th {\n",
       "        vertical-align: top;\n",
       "    }\n",
       "\n",
       "    .dataframe thead th {\n",
       "        text-align: right;\n",
       "    }\n",
       "</style>\n",
       "<table border=\"1\" class=\"dataframe\">\n",
       "  <thead>\n",
       "    <tr style=\"text-align: right;\">\n",
       "      <th></th>\n",
       "      <th>directions</th>\n",
       "      <th>fat</th>\n",
       "      <th>date</th>\n",
       "      <th>categories</th>\n",
       "      <th>calories</th>\n",
       "      <th>desc</th>\n",
       "      <th>protein</th>\n",
       "      <th>rating</th>\n",
       "      <th>title</th>\n",
       "      <th>ingredients</th>\n",
       "      <th>sodium</th>\n",
       "    </tr>\n",
       "  </thead>\n",
       "  <tbody>\n",
       "    <tr>\n",
       "      <td>0</td>\n",
       "      <td>[1. Place the stock, lentils, celery, carrot, ...</td>\n",
       "      <td>7.0</td>\n",
       "      <td>2006-09-01 04:00:00+00:00</td>\n",
       "      <td>[Sandwich, Bean, Fruit, Tomato, turkey, Vegeta...</td>\n",
       "      <td>426.0</td>\n",
       "      <td>None</td>\n",
       "      <td>30.0</td>\n",
       "      <td>2.500</td>\n",
       "      <td>Lentil, Apple, and Turkey Wrap</td>\n",
       "      <td>[4 cups low-sodium vegetable or chicken stock,...</td>\n",
       "      <td>559.0</td>\n",
       "    </tr>\n",
       "    <tr>\n",
       "      <td>1</td>\n",
       "      <td>[Combine first 9 ingredients in heavy medium s...</td>\n",
       "      <td>23.0</td>\n",
       "      <td>2004-08-20 04:00:00+00:00</td>\n",
       "      <td>[Food Processor, Onion, Pork, Bake, Bastille D...</td>\n",
       "      <td>403.0</td>\n",
       "      <td>This uses the same ingredients found in boudin...</td>\n",
       "      <td>18.0</td>\n",
       "      <td>4.375</td>\n",
       "      <td>Boudin Blanc Terrine with Red Onion Confit</td>\n",
       "      <td>[1 1/2 cups whipping cream, 2 medium onions, c...</td>\n",
       "      <td>1439.0</td>\n",
       "    </tr>\n",
       "    <tr>\n",
       "      <td>2</td>\n",
       "      <td>[In a large heavy saucepan cook diced fennel a...</td>\n",
       "      <td>7.0</td>\n",
       "      <td>2004-08-20 04:00:00+00:00</td>\n",
       "      <td>[Soup/Stew, Dairy, Potato, Vegetable, Fennel, ...</td>\n",
       "      <td>165.0</td>\n",
       "      <td>None</td>\n",
       "      <td>6.0</td>\n",
       "      <td>3.750</td>\n",
       "      <td>Potato and Fennel Soup Hodge</td>\n",
       "      <td>[1 fennel bulb (sometimes called anise), stalk...</td>\n",
       "      <td>165.0</td>\n",
       "    </tr>\n",
       "    <tr>\n",
       "      <td>3</td>\n",
       "      <td>[Heat oil in heavy large skillet over medium-h...</td>\n",
       "      <td>NaN</td>\n",
       "      <td>2009-03-27 04:00:00+00:00</td>\n",
       "      <td>[Fish, Olive, Tomato, Sauté, Low Fat, Low Cal,...</td>\n",
       "      <td>NaN</td>\n",
       "      <td>The Sicilian-style tomato sauce has tons of Me...</td>\n",
       "      <td>NaN</td>\n",
       "      <td>5.000</td>\n",
       "      <td>Mahi-Mahi in Tomato Olive Sauce</td>\n",
       "      <td>[2 tablespoons extra-virgin olive oil, 1 cup c...</td>\n",
       "      <td>NaN</td>\n",
       "    </tr>\n",
       "    <tr>\n",
       "      <td>4</td>\n",
       "      <td>[Preheat oven to 350°F. Lightly grease 8x8x2-i...</td>\n",
       "      <td>32.0</td>\n",
       "      <td>2004-08-20 04:00:00+00:00</td>\n",
       "      <td>[Cheese, Dairy, Pasta, Vegetable, Side, Bake, ...</td>\n",
       "      <td>547.0</td>\n",
       "      <td>None</td>\n",
       "      <td>20.0</td>\n",
       "      <td>3.125</td>\n",
       "      <td>Spinach Noodle Casserole</td>\n",
       "      <td>[1 12-ounce package frozen spinach soufflé, th...</td>\n",
       "      <td>452.0</td>\n",
       "    </tr>\n",
       "  </tbody>\n",
       "</table>\n",
       "</div>"
      ],
      "text/plain": [
       "                                          directions   fat  \\\n",
       "0  [1. Place the stock, lentils, celery, carrot, ...   7.0   \n",
       "1  [Combine first 9 ingredients in heavy medium s...  23.0   \n",
       "2  [In a large heavy saucepan cook diced fennel a...   7.0   \n",
       "3  [Heat oil in heavy large skillet over medium-h...   NaN   \n",
       "4  [Preheat oven to 350°F. Lightly grease 8x8x2-i...  32.0   \n",
       "\n",
       "                       date  \\\n",
       "0 2006-09-01 04:00:00+00:00   \n",
       "1 2004-08-20 04:00:00+00:00   \n",
       "2 2004-08-20 04:00:00+00:00   \n",
       "3 2009-03-27 04:00:00+00:00   \n",
       "4 2004-08-20 04:00:00+00:00   \n",
       "\n",
       "                                          categories  calories  \\\n",
       "0  [Sandwich, Bean, Fruit, Tomato, turkey, Vegeta...     426.0   \n",
       "1  [Food Processor, Onion, Pork, Bake, Bastille D...     403.0   \n",
       "2  [Soup/Stew, Dairy, Potato, Vegetable, Fennel, ...     165.0   \n",
       "3  [Fish, Olive, Tomato, Sauté, Low Fat, Low Cal,...       NaN   \n",
       "4  [Cheese, Dairy, Pasta, Vegetable, Side, Bake, ...     547.0   \n",
       "\n",
       "                                                desc  protein  rating  \\\n",
       "0                                               None     30.0   2.500   \n",
       "1  This uses the same ingredients found in boudin...     18.0   4.375   \n",
       "2                                               None      6.0   3.750   \n",
       "3  The Sicilian-style tomato sauce has tons of Me...      NaN   5.000   \n",
       "4                                               None     20.0   3.125   \n",
       "\n",
       "                                         title  \\\n",
       "0              Lentil, Apple, and Turkey Wrap    \n",
       "1  Boudin Blanc Terrine with Red Onion Confit    \n",
       "2                Potato and Fennel Soup Hodge    \n",
       "3             Mahi-Mahi in Tomato Olive Sauce    \n",
       "4                    Spinach Noodle Casserole    \n",
       "\n",
       "                                         ingredients  sodium  \n",
       "0  [4 cups low-sodium vegetable or chicken stock,...   559.0  \n",
       "1  [1 1/2 cups whipping cream, 2 medium onions, c...  1439.0  \n",
       "2  [1 fennel bulb (sometimes called anise), stalk...   165.0  \n",
       "3  [2 tablespoons extra-virgin olive oil, 1 cup c...     NaN  \n",
       "4  [1 12-ounce package frozen spinach soufflé, th...   452.0  "
      ]
     },
     "execution_count": 5,
     "metadata": {},
     "output_type": "execute_result"
    }
   ],
   "source": [
    "df.head(5)"
   ]
  },
  {
   "cell_type": "code",
   "execution_count": 6,
   "metadata": {},
   "outputs": [
    {
     "data": {
      "text/plain": [
       "Int64Index([ 1076,  1135,  1907,  5146,  5424,  5558,  7607,  7768,  7881,\n",
       "             8177,  9590, 10085, 11224, 13206, 13944, 14684, 16210, 16903,\n",
       "            19547],\n",
       "           dtype='int64')"
      ]
     },
     "execution_count": 6,
     "metadata": {},
     "output_type": "execute_result"
    }
   ],
   "source": [
    "null_values_indexes = df[df['ingredients'].isnull() == True].index\n",
    "null_values_indexes"
   ]
  },
  {
   "cell_type": "code",
   "execution_count": 7,
   "metadata": {},
   "outputs": [],
   "source": [
    "df = df.drop(index = null_values_indexes).reset_index(drop=True) #drop indexes with ingredient being nan"
   ]
  },
  {
   "cell_type": "markdown",
   "metadata": {},
   "source": [
    "### Ingredients"
   ]
  },
  {
   "cell_type": "markdown",
   "metadata": {},
   "source": [
    "I took the first n ingredients from JSON (*ingredients*) and list of .csv ingredients (in *seznam*). I added space before and after each element in seznam.\n",
    "\n",
    "From the discussion: we want to distinguish between e. g. *teaspoon* and *tea* (we want to find only *tea*), but there is a problem with e. g. *noodles* in ingredients and *noodle* in seznam though (same with *potatoes* and *potato* etc.). 'Needs to be solved'."
   ]
  },
  {
   "cell_type": "markdown",
   "metadata": {},
   "source": [
    "This was extended to full ingredients.\n",
    "\n",
    "The problem was solved by adding space before and after the ingredient (in *seznam*) and plural form was added to every ingredient (in *seznam*)."
   ]
  },
  {
   "cell_type": "code",
   "execution_count": 8,
   "metadata": {},
   "outputs": [],
   "source": [
    "p = inflect.engine() #plural forms engine"
   ]
  },
  {
   "cell_type": "code",
   "execution_count": 9,
   "metadata": {},
   "outputs": [],
   "source": [
    "ingredients = df['ingredients']\n",
    "with open('../../data/seznam_all.csv', 'r') as f:\n",
    "    reader = csv.reader(f)\n",
    "    seznam = list(reader)\n",
    "seznam = [''.join(x) for x in seznam] #make list of strings from list of lists\n",
    "seznam = [' {0} '.format(elem) for elem in seznam] #add a space before and after a word\n",
    "seznam = seznam[1:] #drop column name\n",
    "\n",
    "for i in range(len(seznam)):\n",
    "    seznam.append(p.plural(seznam[i]))"
   ]
  },
  {
   "cell_type": "code",
   "execution_count": 10,
   "metadata": {},
   "outputs": [
    {
     "data": {
      "text/plain": [
       "['4 cups low-sodium vegetable or chicken stock',\n",
       " '1 cup dried brown lentils',\n",
       " '1/2 cup dried French green lentils',\n",
       " '2 stalks celery, chopped',\n",
       " '1 large carrot, peeled and chopped',\n",
       " '1 sprig fresh thyme',\n",
       " '1 teaspoon kosher salt',\n",
       " '1 medium tomato, cored, seeded, and diced',\n",
       " '1 small Fuji apple, cored and diced',\n",
       " '1 tablespoon freshly squeezed lemon juice',\n",
       " '2 teaspoons extra-virgin olive oil',\n",
       " 'Freshly ground black pepper to taste',\n",
       " '3 sheets whole-wheat lavash, cut in half crosswise, or 6 (12-inch) flour tortillas',\n",
       " '3/4 pound turkey breast, thinly sliced',\n",
       " '1/2 head Bibb lettuce']"
      ]
     },
     "execution_count": 10,
     "metadata": {},
     "output_type": "execute_result"
    }
   ],
   "source": [
    "ingredients[0]"
   ]
  },
  {
   "cell_type": "code",
   "execution_count": 11,
   "metadata": {},
   "outputs": [
    {
     "data": {
      "text/plain": [
       "8964"
      ]
     },
     "execution_count": 11,
     "metadata": {},
     "output_type": "execute_result"
    }
   ],
   "source": [
    "len(seznam)"
   ]
  },
  {
   "cell_type": "code",
   "execution_count": 12,
   "metadata": {},
   "outputs": [
    {
     "data": {
      "text/plain": [
       "[' salt ',\n",
       " ' onions ',\n",
       " ' olive oil ',\n",
       " ' water ',\n",
       " ' garlic ',\n",
       " ' sugar ',\n",
       " ' garlic cloves ',\n",
       " ' butter ',\n",
       " ' ground black pepper ',\n",
       " ' all-purpose flour ']"
      ]
     },
     "execution_count": 12,
     "metadata": {},
     "output_type": "execute_result"
    }
   ],
   "source": [
    "seznam[:10]"
   ]
  },
  {
   "cell_type": "code",
   "execution_count": 13,
   "metadata": {},
   "outputs": [
    {
     "name": "stderr",
     "output_type": "stream",
     "text": [
      "  0%|                                                                                        | 0/20111 [00:00<?, ?it/s]c:\\users\\admin\\.conda\\envs\\test_venv\\lib\\site-packages\\ipykernel_launcher.py:3: SettingWithCopyWarning: \n",
      "A value is trying to be set on a copy of a slice from a DataFrame\n",
      "\n",
      "See the caveats in the documentation: http://pandas.pydata.org/pandas-docs/stable/user_guide/indexing.html#returning-a-view-versus-a-copy\n",
      "  This is separate from the ipykernel package so we can avoid doing imports until\n",
      "c:\\users\\admin\\.conda\\envs\\test_venv\\lib\\site-packages\\ipykernel_launcher.py:4: SettingWithCopyWarning: \n",
      "A value is trying to be set on a copy of a slice from a DataFrame\n",
      "\n",
      "See the caveats in the documentation: http://pandas.pydata.org/pandas-docs/stable/user_guide/indexing.html#returning-a-view-versus-a-copy\n",
      "  after removing the cwd from sys.path.\n",
      "c:\\users\\admin\\.conda\\envs\\test_venv\\lib\\site-packages\\ipykernel_launcher.py:5: SettingWithCopyWarning: \n",
      "A value is trying to be set on a copy of a slice from a DataFrame\n",
      "\n",
      "See the caveats in the documentation: http://pandas.pydata.org/pandas-docs/stable/user_guide/indexing.html#returning-a-view-versus-a-copy\n",
      "  \"\"\"\n",
      "c:\\users\\admin\\.conda\\envs\\test_venv\\lib\\site-packages\\ipykernel_launcher.py:6: SettingWithCopyWarning: \n",
      "A value is trying to be set on a copy of a slice from a DataFrame\n",
      "\n",
      "See the caveats in the documentation: http://pandas.pydata.org/pandas-docs/stable/user_guide/indexing.html#returning-a-view-versus-a-copy\n",
      "  \n",
      "100%|███████████████████████████████████████████████████████████████████████████| 20111/20111 [00:30<00:00, 669.66it/s]\n"
     ]
    }
   ],
   "source": [
    "ingredients_split = ingredients\n",
    "for j in tqdm(range(len(ingredients))):\n",
    "    ingredients_split[j] = ' , '.join(ingredients[j]) \n",
    "    ingredients_split[j]=ingredients_split[j].replace(\",\", \" , \")\n",
    "    ingredients_split[j]=ingredients_split[j].replace(\"*\", \" * \")\n",
    "    ingredients_split[j]=ingredients_split[j] + ' '\n",
    "    #make one long string of ingredients\n",
    "    #extra spaces added to distinguish at the end and at the front of a string"
   ]
  },
  {
   "cell_type": "code",
   "execution_count": 14,
   "metadata": {},
   "outputs": [
    {
     "data": {
      "text/plain": [
       "'4 cups low-sodium vegetable or chicken stock  ,  1 cup dried brown lentils  ,  1/2 cup dried French green lentils  ,  2 stalks celery ,  chopped  ,  1 large carrot ,  peeled and chopped  ,  1 sprig fresh thyme  ,  1 teaspoon kosher salt  ,  1 medium tomato ,  cored ,  seeded ,  and diced  ,  1 small Fuji apple ,  cored and diced  ,  1 tablespoon freshly squeezed lemon juice  ,  2 teaspoons extra-virgin olive oil  ,  Freshly ground black pepper to taste  ,  3 sheets whole-wheat lavash ,  cut in half crosswise ,  or 6 (12-inch) flour tortillas  ,  3/4 pound turkey breast ,  thinly sliced  ,  1/2 head Bibb lettuce '"
      ]
     },
     "execution_count": 14,
     "metadata": {},
     "output_type": "execute_result"
    }
   ],
   "source": [
    "ingredients_split[0]"
   ]
  },
  {
   "cell_type": "code",
   "execution_count": 15,
   "metadata": {},
   "outputs": [
    {
     "name": "stderr",
     "output_type": "stream",
     "text": [
      "100%|████████████████████████████████████████████████████████████████████████████| 20111/20111 [35:27<00:00,  9.45it/s]\n"
     ]
    }
   ],
   "source": [
    "ingredients_individually = ingredients_split\n",
    "final_ing = [[] for i in range(len(ingredients))]\n",
    "for j in tqdm(range(len(ingredients))):\n",
    "    for idx, polozka in enumerate(seznam):\n",
    "        if seznam[idx] in ingredients_split[j]:\n",
    "            final_ing[j].append(polozka)"
   ]
  },
  {
   "cell_type": "code",
   "execution_count": 16,
   "metadata": {},
   "outputs": [
    {
     "data": {
      "text/plain": [
       "[' salt ',\n",
       " ' olive oil ',\n",
       " ' ground black pepper ',\n",
       " ' pepper ',\n",
       " ' kosher salt ',\n",
       " ' extra-virgin olive oil ',\n",
       " ' black pepper ',\n",
       " ' oil ',\n",
       " ' flour ',\n",
       " ' lemon juice ',\n",
       " ' lemon ',\n",
       " ' chicken stock ',\n",
       " ' chicken ',\n",
       " ' celery ',\n",
       " ' flour tortillas ',\n",
       " ' thyme ',\n",
       " ' fresh thyme ',\n",
       " ' juice ',\n",
       " ' tortillas ',\n",
       " ' lettuce ',\n",
       " ' stock ',\n",
       " ' lentils ',\n",
       " ' turkey ',\n",
       " ' turkey breast ',\n",
       " ' brown lentils ',\n",
       " ' crosswise ',\n",
       " ' fresh ',\n",
       " ' carrot ',\n",
       " ' olive ',\n",
       " ' vegetable ',\n",
       " ' apple ',\n",
       " ' green ',\n",
       " ' green lentils ']"
      ]
     },
     "execution_count": 16,
     "metadata": {},
     "output_type": "execute_result"
    }
   ],
   "source": [
    "final_ing[0]"
   ]
  },
  {
   "cell_type": "code",
   "execution_count": 17,
   "metadata": {},
   "outputs": [
    {
     "name": "stderr",
     "output_type": "stream",
     "text": [
      "  0%|                                                                                        | 0/20111 [00:00<?, ?it/s]c:\\users\\admin\\.conda\\envs\\test_venv\\lib\\site-packages\\ipykernel_launcher.py:3: SettingWithCopyWarning: \n",
      "A value is trying to be set on a copy of a slice from a DataFrame\n",
      "\n",
      "See the caveats in the documentation: http://pandas.pydata.org/pandas-docs/stable/user_guide/indexing.html#returning-a-view-versus-a-copy\n",
      "  This is separate from the ipykernel package so we can avoid doing imports until\n",
      "100%|██████████████████████████████████████████████████████████████████████████| 20111/20111 [00:05<00:00, 3652.66it/s]\n"
     ]
    }
   ],
   "source": [
    "df['ingredients_individually'] = df['ingredients']\n",
    "for j in tqdm(range(len(ingredients))):\n",
    "    df['ingredients_individually'][j] = final_ing[j]"
   ]
  },
  {
   "cell_type": "code",
   "execution_count": 18,
   "metadata": {},
   "outputs": [
    {
     "data": {
      "text/html": [
       "<div>\n",
       "<style scoped>\n",
       "    .dataframe tbody tr th:only-of-type {\n",
       "        vertical-align: middle;\n",
       "    }\n",
       "\n",
       "    .dataframe tbody tr th {\n",
       "        vertical-align: top;\n",
       "    }\n",
       "\n",
       "    .dataframe thead th {\n",
       "        text-align: right;\n",
       "    }\n",
       "</style>\n",
       "<table border=\"1\" class=\"dataframe\">\n",
       "  <thead>\n",
       "    <tr style=\"text-align: right;\">\n",
       "      <th></th>\n",
       "      <th>directions</th>\n",
       "      <th>fat</th>\n",
       "      <th>date</th>\n",
       "      <th>categories</th>\n",
       "      <th>calories</th>\n",
       "      <th>desc</th>\n",
       "      <th>protein</th>\n",
       "      <th>rating</th>\n",
       "      <th>title</th>\n",
       "      <th>ingredients</th>\n",
       "      <th>sodium</th>\n",
       "      <th>ingredients_individually</th>\n",
       "    </tr>\n",
       "  </thead>\n",
       "  <tbody>\n",
       "    <tr>\n",
       "      <td>0</td>\n",
       "      <td>[1. Place the stock, lentils, celery, carrot, ...</td>\n",
       "      <td>7.0</td>\n",
       "      <td>2006-09-01 04:00:00+00:00</td>\n",
       "      <td>[Sandwich, Bean, Fruit, Tomato, turkey, Vegeta...</td>\n",
       "      <td>426.0</td>\n",
       "      <td>None</td>\n",
       "      <td>30.0</td>\n",
       "      <td>2.500</td>\n",
       "      <td>Lentil, Apple, and Turkey Wrap</td>\n",
       "      <td>4 cups low-sodium vegetable or chicken stock  ...</td>\n",
       "      <td>559.0</td>\n",
       "      <td>[ salt ,  olive oil ,  ground black pepper ,  ...</td>\n",
       "    </tr>\n",
       "    <tr>\n",
       "      <td>1</td>\n",
       "      <td>[Combine first 9 ingredients in heavy medium s...</td>\n",
       "      <td>23.0</td>\n",
       "      <td>2004-08-20 04:00:00+00:00</td>\n",
       "      <td>[Food Processor, Onion, Pork, Bake, Bastille D...</td>\n",
       "      <td>403.0</td>\n",
       "      <td>This uses the same ingredients found in boudin...</td>\n",
       "      <td>18.0</td>\n",
       "      <td>4.375</td>\n",
       "      <td>Boudin Blanc Terrine with Red Onion Confit</td>\n",
       "      <td>1 1/2 cups whipping cream  ,  2 medium onions ...</td>\n",
       "      <td>1439.0</td>\n",
       "      <td>[ salt ,  onions ,  olive oil ,  garlic ,  sug...</td>\n",
       "    </tr>\n",
       "    <tr>\n",
       "      <td>2</td>\n",
       "      <td>[In a large heavy saucepan cook diced fennel a...</td>\n",
       "      <td>7.0</td>\n",
       "      <td>2004-08-20 04:00:00+00:00</td>\n",
       "      <td>[Soup/Stew, Dairy, Potato, Vegetable, Fennel, ...</td>\n",
       "      <td>165.0</td>\n",
       "      <td>None</td>\n",
       "      <td>6.0</td>\n",
       "      <td>3.750</td>\n",
       "      <td>Potato and Fennel Soup Hodge</td>\n",
       "      <td>1 fennel bulb (sometimes called anise) ,  stal...</td>\n",
       "      <td>165.0</td>\n",
       "      <td>[ butter ,  unsalted butter ,  milk ,  chicken...</td>\n",
       "    </tr>\n",
       "    <tr>\n",
       "      <td>3</td>\n",
       "      <td>[Heat oil in heavy large skillet over medium-h...</td>\n",
       "      <td>NaN</td>\n",
       "      <td>2009-03-27 04:00:00+00:00</td>\n",
       "      <td>[Fish, Olive, Tomato, Sauté, Low Fat, Low Cal,...</td>\n",
       "      <td>NaN</td>\n",
       "      <td>The Sicilian-style tomato sauce has tons of Me...</td>\n",
       "      <td>NaN</td>\n",
       "      <td>5.000</td>\n",
       "      <td>Mahi-Mahi in Tomato Olive Sauce</td>\n",
       "      <td>2 tablespoons extra-virgin olive oil  ,  1 cup...</td>\n",
       "      <td>NaN</td>\n",
       "      <td>[ olive oil ,  garlic ,  tomatoes ,  extra-vir...</td>\n",
       "    </tr>\n",
       "    <tr>\n",
       "      <td>4</td>\n",
       "      <td>[Preheat oven to 350°F. Lightly grease 8x8x2-i...</td>\n",
       "      <td>32.0</td>\n",
       "      <td>2004-08-20 04:00:00+00:00</td>\n",
       "      <td>[Cheese, Dairy, Pasta, Vegetable, Side, Bake, ...</td>\n",
       "      <td>547.0</td>\n",
       "      <td>None</td>\n",
       "      <td>20.0</td>\n",
       "      <td>3.125</td>\n",
       "      <td>Spinach Noodle Casserole</td>\n",
       "      <td>1 12-ounce package frozen spinach soufflé ,  t...</td>\n",
       "      <td>452.0</td>\n",
       "      <td>[ sour cream ,  ground nutmeg ,  cheddar chees...</td>\n",
       "    </tr>\n",
       "  </tbody>\n",
       "</table>\n",
       "</div>"
      ],
      "text/plain": [
       "                                          directions   fat  \\\n",
       "0  [1. Place the stock, lentils, celery, carrot, ...   7.0   \n",
       "1  [Combine first 9 ingredients in heavy medium s...  23.0   \n",
       "2  [In a large heavy saucepan cook diced fennel a...   7.0   \n",
       "3  [Heat oil in heavy large skillet over medium-h...   NaN   \n",
       "4  [Preheat oven to 350°F. Lightly grease 8x8x2-i...  32.0   \n",
       "\n",
       "                       date  \\\n",
       "0 2006-09-01 04:00:00+00:00   \n",
       "1 2004-08-20 04:00:00+00:00   \n",
       "2 2004-08-20 04:00:00+00:00   \n",
       "3 2009-03-27 04:00:00+00:00   \n",
       "4 2004-08-20 04:00:00+00:00   \n",
       "\n",
       "                                          categories  calories  \\\n",
       "0  [Sandwich, Bean, Fruit, Tomato, turkey, Vegeta...     426.0   \n",
       "1  [Food Processor, Onion, Pork, Bake, Bastille D...     403.0   \n",
       "2  [Soup/Stew, Dairy, Potato, Vegetable, Fennel, ...     165.0   \n",
       "3  [Fish, Olive, Tomato, Sauté, Low Fat, Low Cal,...       NaN   \n",
       "4  [Cheese, Dairy, Pasta, Vegetable, Side, Bake, ...     547.0   \n",
       "\n",
       "                                                desc  protein  rating  \\\n",
       "0                                               None     30.0   2.500   \n",
       "1  This uses the same ingredients found in boudin...     18.0   4.375   \n",
       "2                                               None      6.0   3.750   \n",
       "3  The Sicilian-style tomato sauce has tons of Me...      NaN   5.000   \n",
       "4                                               None     20.0   3.125   \n",
       "\n",
       "                                         title  \\\n",
       "0              Lentil, Apple, and Turkey Wrap    \n",
       "1  Boudin Blanc Terrine with Red Onion Confit    \n",
       "2                Potato and Fennel Soup Hodge    \n",
       "3             Mahi-Mahi in Tomato Olive Sauce    \n",
       "4                    Spinach Noodle Casserole    \n",
       "\n",
       "                                         ingredients  sodium  \\\n",
       "0  4 cups low-sodium vegetable or chicken stock  ...   559.0   \n",
       "1  1 1/2 cups whipping cream  ,  2 medium onions ...  1439.0   \n",
       "2  1 fennel bulb (sometimes called anise) ,  stal...   165.0   \n",
       "3  2 tablespoons extra-virgin olive oil  ,  1 cup...     NaN   \n",
       "4  1 12-ounce package frozen spinach soufflé ,  t...   452.0   \n",
       "\n",
       "                            ingredients_individually  \n",
       "0  [ salt ,  olive oil ,  ground black pepper ,  ...  \n",
       "1  [ salt ,  onions ,  olive oil ,  garlic ,  sug...  \n",
       "2  [ butter ,  unsalted butter ,  milk ,  chicken...  \n",
       "3  [ olive oil ,  garlic ,  tomatoes ,  extra-vir...  \n",
       "4  [ sour cream ,  ground nutmeg ,  cheddar chees...  "
      ]
     },
     "execution_count": 18,
     "metadata": {},
     "output_type": "execute_result"
    }
   ],
   "source": [
    "df.head()"
   ]
  },
  {
   "cell_type": "code",
   "execution_count": 19,
   "metadata": {},
   "outputs": [
    {
     "data": {
      "text/plain": [
       "[' salt ',\n",
       " ' olive oil ',\n",
       " ' ground black pepper ',\n",
       " ' pepper ',\n",
       " ' kosher salt ',\n",
       " ' extra-virgin olive oil ',\n",
       " ' black pepper ',\n",
       " ' oil ',\n",
       " ' flour ',\n",
       " ' lemon juice ',\n",
       " ' lemon ',\n",
       " ' chicken stock ',\n",
       " ' chicken ',\n",
       " ' celery ',\n",
       " ' flour tortillas ',\n",
       " ' thyme ',\n",
       " ' fresh thyme ',\n",
       " ' juice ',\n",
       " ' tortillas ',\n",
       " ' lettuce ',\n",
       " ' stock ',\n",
       " ' lentils ',\n",
       " ' turkey ',\n",
       " ' turkey breast ',\n",
       " ' brown lentils ',\n",
       " ' crosswise ',\n",
       " ' fresh ',\n",
       " ' carrot ',\n",
       " ' olive ',\n",
       " ' vegetable ',\n",
       " ' apple ',\n",
       " ' green ',\n",
       " ' green lentils ']"
      ]
     },
     "execution_count": 19,
     "metadata": {},
     "output_type": "execute_result"
    }
   ],
   "source": [
    "df['ingredients_individually'][0]"
   ]
  },
  {
   "cell_type": "markdown",
   "metadata": {},
   "source": [
    "### Save dataframe with column of found ingredients"
   ]
  },
  {
   "cell_type": "code",
   "execution_count": 20,
   "metadata": {},
   "outputs": [],
   "source": [
    "recipes_filename_parsed_ingredients = \"../../data/full_format_recipes_parsed_ingredients.json\"\n",
    "df.to_json(recipes_filename_parsed_ingredients)"
   ]
  },
  {
   "cell_type": "markdown",
   "metadata": {},
   "source": [
    "### Find most frequent ingredients\n",
    "This list will be fed to search engine"
   ]
  },
  {
   "cell_type": "code",
   "execution_count": 21,
   "metadata": {
    "scrolled": true
   },
   "outputs": [
    {
     "name": "stderr",
     "output_type": "stream",
     "text": [
      "100%|███████████████████████████████████████████████████████████████████████████| 20111/20111 [00:29<00:00, 681.32it/s]\n"
     ]
    }
   ],
   "source": [
    "all_ingredients_list = []\n",
    "for idx in tqdm(range(len(df['ingredients_individually']))):\n",
    "    all_ingredients_list = all_ingredients_list + df['ingredients_individually'][idx] \n",
    "    #all ingredients from seznam used in all recipes\n",
    "all_ingredients = np.array(all_ingredients_list)"
   ]
  },
  {
   "cell_type": "code",
   "execution_count": 22,
   "metadata": {},
   "outputs": [
    {
     "name": "stdout",
     "output_type": "stream",
     "text": [
      "3189\n"
     ]
    }
   ],
   "source": [
    "unique, counts = np.unique(all_ingredients, return_counts=True)\n",
    "unique_df = pd.DataFrame(data = zip(unique, counts), columns = ['Unique', 'Counts'])\n",
    "unique_df = unique_df.sort_values(by = 'Counts', ascending = False)\n",
    "print(len(unique))"
   ]
  },
  {
   "cell_type": "code",
   "execution_count": 23,
   "metadata": {},
   "outputs": [
    {
     "data": {
      "text/html": [
       "<div>\n",
       "<style scoped>\n",
       "    .dataframe tbody tr th:only-of-type {\n",
       "        vertical-align: middle;\n",
       "    }\n",
       "\n",
       "    .dataframe tbody tr th {\n",
       "        vertical-align: top;\n",
       "    }\n",
       "\n",
       "    .dataframe thead th {\n",
       "        text-align: right;\n",
       "    }\n",
       "</style>\n",
       "<table border=\"1\" class=\"dataframe\">\n",
       "  <thead>\n",
       "    <tr style=\"text-align: right;\">\n",
       "      <th></th>\n",
       "      <th>Unique</th>\n",
       "      <th>Counts</th>\n",
       "    </tr>\n",
       "  </thead>\n",
       "  <tbody>\n",
       "    <tr>\n",
       "      <td>1152</td>\n",
       "      <td>fresh</td>\n",
       "      <td>10981</td>\n",
       "    </tr>\n",
       "    <tr>\n",
       "      <td>1923</td>\n",
       "      <td>oil</td>\n",
       "      <td>9790</td>\n",
       "    </tr>\n",
       "    <tr>\n",
       "      <td>2465</td>\n",
       "      <td>salt</td>\n",
       "      <td>8658</td>\n",
       "    </tr>\n",
       "    <tr>\n",
       "      <td>2764</td>\n",
       "      <td>sugar</td>\n",
       "      <td>6636</td>\n",
       "    </tr>\n",
       "    <tr>\n",
       "      <td>1930</td>\n",
       "      <td>olive</td>\n",
       "      <td>6515</td>\n",
       "    </tr>\n",
       "    <tr>\n",
       "      <td>1931</td>\n",
       "      <td>olive oil</td>\n",
       "      <td>6475</td>\n",
       "    </tr>\n",
       "    <tr>\n",
       "      <td>1271</td>\n",
       "      <td>garlic</td>\n",
       "      <td>6032</td>\n",
       "    </tr>\n",
       "    <tr>\n",
       "      <td>2068</td>\n",
       "      <td>pepper</td>\n",
       "      <td>5977</td>\n",
       "    </tr>\n",
       "    <tr>\n",
       "      <td>415</td>\n",
       "      <td>butter</td>\n",
       "      <td>5970</td>\n",
       "    </tr>\n",
       "    <tr>\n",
       "      <td>1556</td>\n",
       "      <td>juice</td>\n",
       "      <td>5785</td>\n",
       "    </tr>\n",
       "    <tr>\n",
       "      <td>3045</td>\n",
       "      <td>water</td>\n",
       "      <td>4380</td>\n",
       "    </tr>\n",
       "    <tr>\n",
       "      <td>2966</td>\n",
       "      <td>unsalted butter</td>\n",
       "      <td>4228</td>\n",
       "    </tr>\n",
       "    <tr>\n",
       "      <td>713</td>\n",
       "      <td>cloves</td>\n",
       "      <td>4215</td>\n",
       "    </tr>\n",
       "    <tr>\n",
       "      <td>1644</td>\n",
       "      <td>lemon</td>\n",
       "      <td>4184</td>\n",
       "    </tr>\n",
       "    <tr>\n",
       "      <td>2312</td>\n",
       "      <td>red</td>\n",
       "      <td>4133</td>\n",
       "    </tr>\n",
       "    <tr>\n",
       "      <td>1937</td>\n",
       "      <td>onion</td>\n",
       "      <td>3898</td>\n",
       "    </tr>\n",
       "    <tr>\n",
       "      <td>836</td>\n",
       "      <td>cream</td>\n",
       "      <td>3834</td>\n",
       "    </tr>\n",
       "    <tr>\n",
       "      <td>1138</td>\n",
       "      <td>flour</td>\n",
       "      <td>3606</td>\n",
       "    </tr>\n",
       "    <tr>\n",
       "      <td>1638</td>\n",
       "      <td>leaves</td>\n",
       "      <td>3499</td>\n",
       "    </tr>\n",
       "    <tr>\n",
       "      <td>1276</td>\n",
       "      <td>garlic cloves</td>\n",
       "      <td>3286</td>\n",
       "    </tr>\n",
       "    <tr>\n",
       "      <td>3028</td>\n",
       "      <td>vinegar</td>\n",
       "      <td>3282</td>\n",
       "    </tr>\n",
       "    <tr>\n",
       "      <td>276</td>\n",
       "      <td>black pepper</td>\n",
       "      <td>3194</td>\n",
       "    </tr>\n",
       "    <tr>\n",
       "      <td>1648</td>\n",
       "      <td>lemon juice</td>\n",
       "      <td>3084</td>\n",
       "    </tr>\n",
       "    <tr>\n",
       "      <td>560</td>\n",
       "      <td>chicken</td>\n",
       "      <td>2929</td>\n",
       "    </tr>\n",
       "    <tr>\n",
       "      <td>3010</td>\n",
       "      <td>vegetable</td>\n",
       "      <td>2891</td>\n",
       "    </tr>\n",
       "    <tr>\n",
       "      <td>1180</td>\n",
       "      <td>fresh lemon</td>\n",
       "      <td>2822</td>\n",
       "    </tr>\n",
       "    <tr>\n",
       "      <td>1181</td>\n",
       "      <td>fresh lemon juice</td>\n",
       "      <td>2713</td>\n",
       "    </tr>\n",
       "    <tr>\n",
       "      <td>3136</td>\n",
       "      <td>wine</td>\n",
       "      <td>2668</td>\n",
       "    </tr>\n",
       "    <tr>\n",
       "      <td>1360</td>\n",
       "      <td>green</td>\n",
       "      <td>2590</td>\n",
       "    </tr>\n",
       "    <tr>\n",
       "      <td>542</td>\n",
       "      <td>cheese</td>\n",
       "      <td>2590</td>\n",
       "    </tr>\n",
       "    <tr>\n",
       "      <td>2002</td>\n",
       "      <td>parsley</td>\n",
       "      <td>2573</td>\n",
       "    </tr>\n",
       "    <tr>\n",
       "      <td>1050</td>\n",
       "      <td>eggs</td>\n",
       "      <td>2418</td>\n",
       "    </tr>\n",
       "    <tr>\n",
       "      <td>3015</td>\n",
       "      <td>vegetable oil</td>\n",
       "      <td>2357</td>\n",
       "    </tr>\n",
       "    <tr>\n",
       "      <td>388</td>\n",
       "      <td>broth</td>\n",
       "      <td>2302</td>\n",
       "    </tr>\n",
       "    <tr>\n",
       "      <td>1040</td>\n",
       "      <td>egg</td>\n",
       "      <td>2288</td>\n",
       "    </tr>\n",
       "    <tr>\n",
       "      <td>2897</td>\n",
       "      <td>tomatoes</td>\n",
       "      <td>2201</td>\n",
       "    </tr>\n",
       "    <tr>\n",
       "      <td>1400</td>\n",
       "      <td>ground black pepper</td>\n",
       "      <td>2187</td>\n",
       "    </tr>\n",
       "    <tr>\n",
       "      <td>2484</td>\n",
       "      <td>sauce</td>\n",
       "      <td>2027</td>\n",
       "    </tr>\n",
       "    <tr>\n",
       "      <td>1945</td>\n",
       "      <td>onions</td>\n",
       "      <td>2026</td>\n",
       "    </tr>\n",
       "    <tr>\n",
       "      <td>1624</td>\n",
       "      <td>large eggs</td>\n",
       "      <td>2024</td>\n",
       "    </tr>\n",
       "    <tr>\n",
       "      <td>1821</td>\n",
       "      <td>milk</td>\n",
       "      <td>1975</td>\n",
       "    </tr>\n",
       "    <tr>\n",
       "      <td>2984</td>\n",
       "      <td>vanilla</td>\n",
       "      <td>1906</td>\n",
       "    </tr>\n",
       "    <tr>\n",
       "      <td>1064</td>\n",
       "      <td>extra-virgin olive oil</td>\n",
       "      <td>1903</td>\n",
       "    </tr>\n",
       "    <tr>\n",
       "      <td>568</td>\n",
       "      <td>chicken broth</td>\n",
       "      <td>1802</td>\n",
       "    </tr>\n",
       "    <tr>\n",
       "      <td>2520</td>\n",
       "      <td>seeds</td>\n",
       "      <td>1787</td>\n",
       "    </tr>\n",
       "    <tr>\n",
       "      <td>1596</td>\n",
       "      <td>kosher salt</td>\n",
       "      <td>1742</td>\n",
       "    </tr>\n",
       "    <tr>\n",
       "      <td>1294</td>\n",
       "      <td>ginger</td>\n",
       "      <td>1732</td>\n",
       "    </tr>\n",
       "    <tr>\n",
       "      <td>2862</td>\n",
       "      <td>thyme</td>\n",
       "      <td>1715</td>\n",
       "    </tr>\n",
       "    <tr>\n",
       "      <td>76</td>\n",
       "      <td>all-purpose flour</td>\n",
       "      <td>1700</td>\n",
       "    </tr>\n",
       "    <tr>\n",
       "      <td>1947</td>\n",
       "      <td>orange</td>\n",
       "      <td>1655</td>\n",
       "    </tr>\n",
       "  </tbody>\n",
       "</table>\n",
       "</div>"
      ],
      "text/plain": [
       "                        Unique  Counts\n",
       "1152                    fresh    10981\n",
       "1923                      oil     9790\n",
       "2465                     salt     8658\n",
       "2764                    sugar     6636\n",
       "1930                    olive     6515\n",
       "1931                olive oil     6475\n",
       "1271                   garlic     6032\n",
       "2068                   pepper     5977\n",
       "415                    butter     5970\n",
       "1556                    juice     5785\n",
       "3045                    water     4380\n",
       "2966          unsalted butter     4228\n",
       "713                    cloves     4215\n",
       "1644                    lemon     4184\n",
       "2312                      red     4133\n",
       "1937                    onion     3898\n",
       "836                     cream     3834\n",
       "1138                    flour     3606\n",
       "1638                   leaves     3499\n",
       "1276            garlic cloves     3286\n",
       "3028                  vinegar     3282\n",
       "276              black pepper     3194\n",
       "1648              lemon juice     3084\n",
       "560                   chicken     2929\n",
       "3010                vegetable     2891\n",
       "1180              fresh lemon     2822\n",
       "1181        fresh lemon juice     2713\n",
       "3136                     wine     2668\n",
       "1360                    green     2590\n",
       "542                    cheese     2590\n",
       "2002                  parsley     2573\n",
       "1050                     eggs     2418\n",
       "3015            vegetable oil     2357\n",
       "388                     broth     2302\n",
       "1040                      egg     2288\n",
       "2897                 tomatoes     2201\n",
       "1400      ground black pepper     2187\n",
       "2484                    sauce     2027\n",
       "1945                   onions     2026\n",
       "1624               large eggs     2024\n",
       "1821                     milk     1975\n",
       "2984                  vanilla     1906\n",
       "1064   extra-virgin olive oil     1903\n",
       "568             chicken broth     1802\n",
       "2520                    seeds     1787\n",
       "1596              kosher salt     1742\n",
       "1294                   ginger     1732\n",
       "2862                    thyme     1715\n",
       "76          all-purpose flour     1700\n",
       "1947                   orange     1655"
      ]
     },
     "execution_count": 23,
     "metadata": {},
     "output_type": "execute_result"
    }
   ],
   "source": [
    "unique_df.head(50)"
   ]
  },
  {
   "cell_type": "code",
   "execution_count": 24,
   "metadata": {},
   "outputs": [
    {
     "data": {
      "text/plain": [
       "array([' fresh ', ' oil ', ' salt ', ' sugar ', ' olive ', ' olive oil ',\n",
       "       ' garlic ', ' pepper ', ' butter ', ' juice ', ' water ',\n",
       "       ' unsalted butter ', ' cloves ', ' lemon ', ' red ', ' onion ',\n",
       "       ' cream ', ' flour ', ' leaves ', ' garlic cloves ', ' vinegar ',\n",
       "       ' black pepper ', ' lemon juice ', ' chicken ', ' vegetable ',\n",
       "       ' fresh lemon ', ' fresh lemon juice ', ' wine ', ' green ',\n",
       "       ' cheese ', ' parsley ', ' eggs ', ' vegetable oil ', ' broth ',\n",
       "       ' egg ', ' tomatoes ', ' ground black pepper ', ' sauce ',\n",
       "       ' onions ', ' large eggs ', ' milk ', ' vanilla ',\n",
       "       ' extra-virgin olive oil ', ' chicken broth ', ' seeds ',\n",
       "       ' kosher salt ', ' ginger ', ' thyme ', ' all-purpose flour ',\n",
       "       ' orange ', ' lime ', ' mustard ', ' cilantro ', ' cinnamon ',\n",
       "       ' white wine ', ' brown sugar ', ' lime juice ', ' rice ',\n",
       "       ' clove ', ' celery ', ' fresh lime ', ' extract ', ' bread ',\n",
       "       ' fresh lime juice ', ' potatoes ', ' whipping cream ', ' basil ',\n",
       "       ' cumin ', ' fresh cilantro ', ' heavy cream ',\n",
       "       ' vanilla extract ', ' mint ', ' crosswise ', ' ice ',\n",
       "       ' dry white wine ', ' fresh thyme ', ' zest ', ' fresh parsley ',\n",
       "       ' carrots ', ' honey ', ' corn ', ' wine vinegar ', ' soy ',\n",
       "       ' soy sauce ', ' fresh ginger ', ' baking powder ', ' beans ',\n",
       "       ' red pepper ', ' bay leaves ', ' rosemary ', ' shallots ',\n",
       "       ' mushrooms ', ' red wine ', ' whole milk ', ' bell pepper ',\n",
       "       ' ground cumin ', ' large garlic cloves ', ' chocolate ',\n",
       "       ' fresh basil ', ' beef '], dtype='<U24')"
      ]
     },
     "execution_count": 24,
     "metadata": {},
     "output_type": "execute_result"
    }
   ],
   "source": [
    "n_most_frequent = 100\n",
    "string_to_feed_search_engine = unique_df['Unique'][:n_most_frequent].values.astype(str)\n",
    "string_to_feed_search_engine"
   ]
  },
  {
   "cell_type": "markdown",
   "metadata": {},
   "source": [
    "### Final checks"
   ]
  },
  {
   "cell_type": "code",
   "execution_count": 25,
   "metadata": {},
   "outputs": [
    {
     "name": "stdout",
     "output_type": "stream",
     "text": [
      "2 cups pecan halves  ,  3 tablespoons unsalted butter ,  melted  ,  1 1/4 teaspoons fine sea salt  \n",
      "\n",
      "[' salt ', ' butter ', ' unsalted butter ', ' sea salt ', ' fine sea salt ', ' pecan halves ', ' pecan ']\n"
     ]
    }
   ],
   "source": [
    "import random\n",
    "n = random.randint(0, 100)\n",
    "print(df['ingredients'][n], '\\n')\n",
    "print(df['ingredients_individually'][n])"
   ]
  },
  {
   "cell_type": "code",
   "execution_count": 26,
   "metadata": {},
   "outputs": [
    {
     "name": "stdout",
     "output_type": "stream",
     "text": [
      "3 firm-ripe mangoes (3 pounds total) ,  peeled and cut into 1/2-inch cubes  ,  1/3 cup distilled white vinegar  ,  1/3 cup packed dark brown sugar  ,  1/3 cup golden raisins  ,  1 3/4 teaspoons salt  ,  1 (1-inch) piece fresh ginger ,  peeled and chopped  ,  1 tablespoon chopped fresh jalapeño including seeds (from 1 chile)  ,  3 garlic cloves ,  chopped  ,  3/4 teaspoon ground cumin  ,  3/4 teaspoon ground coriander  ,  1/2 teaspoon turmeric  ,  2 tablespoons vegetable oil  ,  1 medium onion ,  chopped  ,  1 red bell pepper ,  cut into 1/4-inch dice  ,  1 (3-inch) cinnamon stick  \n",
      "\n",
      "[' salt ', ' garlic ', ' sugar ', ' garlic cloves ', ' vegetable oil ', ' pepper ', ' ground cumin ', ' red bell pepper ', ' oil ', ' ginger ', ' brown sugar ', ' fresh ginger ', ' cumin ', ' ground coriander ', ' cinnamon ', ' raisins ', ' white vinegar ', ' bell pepper ', ' coriander ', ' vinegar ', ' dark brown sugar ', ' golden raisins ', ' seeds ', ' red ', ' fresh ', ' onion ', ' cloves ', ' mangoes ', ' vegetable ']\n"
     ]
    }
   ],
   "source": [
    "n = random.randint(0, len(df))\n",
    "print(df['ingredients'][n], '\\n')\n",
    "print(df['ingredients_individually'][n])"
   ]
  },
  {
   "cell_type": "code",
   "execution_count": 27,
   "metadata": {},
   "outputs": [
    {
     "name": "stdout",
     "output_type": "stream",
     "text": [
      "1 navel orange  ,  3 tablespoons sugar  ,  3 tablespoons unsalted butter  ,  1 large egg  ,  1/2 cup well-chilled heavy cream  \n",
      "\n",
      "[' sugar ', ' butter ', ' unsalted butter ', ' heavy cream ', ' orange ', ' cream ', ' egg ']\n"
     ]
    }
   ],
   "source": [
    "n = random.randint(0, len(df))\n",
    "print(df['ingredients'][n], '\\n')\n",
    "print(df['ingredients_individually'][n])"
   ]
  }
 ],
 "metadata": {
  "kernelspec": {
   "display_name": "Python 3",
   "language": "python",
   "name": "python3"
  },
  "language_info": {
   "codemirror_mode": {
    "name": "ipython",
    "version": 3
   },
   "file_extension": ".py",
   "mimetype": "text/x-python",
   "name": "python",
   "nbconvert_exporter": "python",
   "pygments_lexer": "ipython3",
   "version": "3.7.4"
  }
 },
 "nbformat": 4,
 "nbformat_minor": 2
}
